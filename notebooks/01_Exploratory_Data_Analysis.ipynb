{
 "cells": [
  {
   "cell_type": "code",
   "execution_count": 1,
   "id": "cd8ffe34",
   "metadata": {},
   "outputs": [],
   "source": [
    "%%capture\n",
    "# cell for installing necessary packages\n",
    "# !pip install polars"
   ]
  },
  {
   "cell_type": "code",
   "execution_count": 2,
   "id": "478243b7",
   "metadata": {},
   "outputs": [],
   "source": [
    "# Import necessary packages\n",
    "import pandas as pd\n",
    "import numpy as np\n",
    "import matplotlib.pyplot as plt\n",
    "import seaborn as sns\n",
    "import polars as pl\n",
    "\n",
    "from scipy.stats import kurtosis, skew"
   ]
  },
  {
   "cell_type": "markdown",
   "id": "7cbfafb1",
   "metadata": {},
   "source": [
    "### About Data"
   ]
  },
  {
   "cell_type": "code",
   "execution_count": 3,
   "id": "f91baff2",
   "metadata": {},
   "outputs": [],
   "source": [
    "aisles_df = pl.read_csv(\"../data/aisles.csv\")\n",
    "departments_df = pl.read_csv(\"../data/departments.csv\")\n",
    "order_prior_df = pl.read_csv(\"../data/order_products__prior.csv\")\n",
    "order_train_df = pl.read_csv(\"../data/order_products__train.csv\")\n",
    "orders_df = pl.read_csv(\"../data/orders.csv\")\n",
    "products_df = pl.read_csv(\"../data/products.csv\")"
   ]
  },
  {
   "cell_type": "code",
   "execution_count": 4,
   "id": "d841edde",
   "metadata": {},
   "outputs": [
    {
     "data": {
      "text/html": [
       "<div><style>\n",
       ".dataframe > thead > tr,\n",
       ".dataframe > tbody > tr {\n",
       "  text-align: right;\n",
       "  white-space: pre-wrap;\n",
       "}\n",
       "</style>\n",
       "<small>shape: (5, 2)</small><table border=\"1\" class=\"dataframe\"><thead><tr><th>aisle_id</th><th>aisle</th></tr><tr><td>i64</td><td>str</td></tr></thead><tbody><tr><td>1</td><td>&quot;prepared soups salads&quot;</td></tr><tr><td>2</td><td>&quot;specialty cheeses&quot;</td></tr><tr><td>3</td><td>&quot;energy granola bars&quot;</td></tr><tr><td>4</td><td>&quot;instant foods&quot;</td></tr><tr><td>5</td><td>&quot;marinades meat preparation&quot;</td></tr></tbody></table></div>"
      ],
      "text/plain": [
       "shape: (5, 2)\n",
       "┌──────────┬────────────────────────────┐\n",
       "│ aisle_id ┆ aisle                      │\n",
       "│ ---      ┆ ---                        │\n",
       "│ i64      ┆ str                        │\n",
       "╞══════════╪════════════════════════════╡\n",
       "│ 1        ┆ prepared soups salads      │\n",
       "│ 2        ┆ specialty cheeses          │\n",
       "│ 3        ┆ energy granola bars        │\n",
       "│ 4        ┆ instant foods              │\n",
       "│ 5        ┆ marinades meat preparation │\n",
       "└──────────┴────────────────────────────┘"
      ]
     },
     "execution_count": 4,
     "metadata": {},
     "output_type": "execute_result"
    }
   ],
   "source": [
    "aisles_df.head()"
   ]
  },
  {
   "cell_type": "code",
   "execution_count": 5,
   "id": "3d927b7b",
   "metadata": {},
   "outputs": [
    {
     "data": {
      "text/html": [
       "<div><style>\n",
       ".dataframe > thead > tr,\n",
       ".dataframe > tbody > tr {\n",
       "  text-align: right;\n",
       "  white-space: pre-wrap;\n",
       "}\n",
       "</style>\n",
       "<small>shape: (9, 3)</small><table border=\"1\" class=\"dataframe\"><thead><tr><th>statistic</th><th>aisle_id</th><th>aisle</th></tr><tr><td>str</td><td>f64</td><td>str</td></tr></thead><tbody><tr><td>&quot;count&quot;</td><td>134.0</td><td>&quot;134&quot;</td></tr><tr><td>&quot;null_count&quot;</td><td>0.0</td><td>&quot;0&quot;</td></tr><tr><td>&quot;mean&quot;</td><td>67.5</td><td>null</td></tr><tr><td>&quot;std&quot;</td><td>38.826537</td><td>null</td></tr><tr><td>&quot;min&quot;</td><td>1.0</td><td>&quot;air fresheners candles&quot;</td></tr><tr><td>&quot;25%&quot;</td><td>34.0</td><td>null</td></tr><tr><td>&quot;50%&quot;</td><td>68.0</td><td>null</td></tr><tr><td>&quot;75%&quot;</td><td>101.0</td><td>null</td></tr><tr><td>&quot;max&quot;</td><td>134.0</td><td>&quot;yogurt&quot;</td></tr></tbody></table></div>"
      ],
      "text/plain": [
       "shape: (9, 3)\n",
       "┌────────────┬───────────┬────────────────────────┐\n",
       "│ statistic  ┆ aisle_id  ┆ aisle                  │\n",
       "│ ---        ┆ ---       ┆ ---                    │\n",
       "│ str        ┆ f64       ┆ str                    │\n",
       "╞════════════╪═══════════╪════════════════════════╡\n",
       "│ count      ┆ 134.0     ┆ 134                    │\n",
       "│ null_count ┆ 0.0       ┆ 0                      │\n",
       "│ mean       ┆ 67.5      ┆ null                   │\n",
       "│ std        ┆ 38.826537 ┆ null                   │\n",
       "│ min        ┆ 1.0       ┆ air fresheners candles │\n",
       "│ 25%        ┆ 34.0      ┆ null                   │\n",
       "│ 50%        ┆ 68.0      ┆ null                   │\n",
       "│ 75%        ┆ 101.0     ┆ null                   │\n",
       "│ max        ┆ 134.0     ┆ yogurt                 │\n",
       "└────────────┴───────────┴────────────────────────┘"
      ]
     },
     "execution_count": 5,
     "metadata": {},
     "output_type": "execute_result"
    }
   ],
   "source": [
    "aisles_df.describe()"
   ]
  },
  {
   "cell_type": "code",
   "execution_count": 6,
   "id": "7f3d8081",
   "metadata": {},
   "outputs": [
    {
     "data": {
      "text/html": [
       "<div><style>\n",
       ".dataframe > thead > tr,\n",
       ".dataframe > tbody > tr {\n",
       "  text-align: right;\n",
       "  white-space: pre-wrap;\n",
       "}\n",
       "</style>\n",
       "<small>shape: (5, 2)</small><table border=\"1\" class=\"dataframe\"><thead><tr><th>department_id</th><th>department</th></tr><tr><td>i64</td><td>str</td></tr></thead><tbody><tr><td>1</td><td>&quot;frozen&quot;</td></tr><tr><td>2</td><td>&quot;other&quot;</td></tr><tr><td>3</td><td>&quot;bakery&quot;</td></tr><tr><td>4</td><td>&quot;produce&quot;</td></tr><tr><td>5</td><td>&quot;alcohol&quot;</td></tr></tbody></table></div>"
      ],
      "text/plain": [
       "shape: (5, 2)\n",
       "┌───────────────┬────────────┐\n",
       "│ department_id ┆ department │\n",
       "│ ---           ┆ ---        │\n",
       "│ i64           ┆ str        │\n",
       "╞═══════════════╪════════════╡\n",
       "│ 1             ┆ frozen     │\n",
       "│ 2             ┆ other      │\n",
       "│ 3             ┆ bakery     │\n",
       "│ 4             ┆ produce    │\n",
       "│ 5             ┆ alcohol    │\n",
       "└───────────────┴────────────┘"
      ]
     },
     "execution_count": 6,
     "metadata": {},
     "output_type": "execute_result"
    }
   ],
   "source": [
    "departments_df.head()"
   ]
  },
  {
   "cell_type": "code",
   "execution_count": 7,
   "id": "21c80042",
   "metadata": {},
   "outputs": [
    {
     "data": {
      "text/html": [
       "<div><style>\n",
       ".dataframe > thead > tr,\n",
       ".dataframe > tbody > tr {\n",
       "  text-align: right;\n",
       "  white-space: pre-wrap;\n",
       "}\n",
       "</style>\n",
       "<small>shape: (9, 3)</small><table border=\"1\" class=\"dataframe\"><thead><tr><th>statistic</th><th>department_id</th><th>department</th></tr><tr><td>str</td><td>f64</td><td>str</td></tr></thead><tbody><tr><td>&quot;count&quot;</td><td>21.0</td><td>&quot;21&quot;</td></tr><tr><td>&quot;null_count&quot;</td><td>0.0</td><td>&quot;0&quot;</td></tr><tr><td>&quot;mean&quot;</td><td>11.0</td><td>null</td></tr><tr><td>&quot;std&quot;</td><td>6.204837</td><td>null</td></tr><tr><td>&quot;min&quot;</td><td>1.0</td><td>&quot;alcohol&quot;</td></tr><tr><td>&quot;25%&quot;</td><td>6.0</td><td>null</td></tr><tr><td>&quot;50%&quot;</td><td>11.0</td><td>null</td></tr><tr><td>&quot;75%&quot;</td><td>16.0</td><td>null</td></tr><tr><td>&quot;max&quot;</td><td>21.0</td><td>&quot;snacks&quot;</td></tr></tbody></table></div>"
      ],
      "text/plain": [
       "shape: (9, 3)\n",
       "┌────────────┬───────────────┬────────────┐\n",
       "│ statistic  ┆ department_id ┆ department │\n",
       "│ ---        ┆ ---           ┆ ---        │\n",
       "│ str        ┆ f64           ┆ str        │\n",
       "╞════════════╪═══════════════╪════════════╡\n",
       "│ count      ┆ 21.0          ┆ 21         │\n",
       "│ null_count ┆ 0.0           ┆ 0          │\n",
       "│ mean       ┆ 11.0          ┆ null       │\n",
       "│ std        ┆ 6.204837      ┆ null       │\n",
       "│ min        ┆ 1.0           ┆ alcohol    │\n",
       "│ 25%        ┆ 6.0           ┆ null       │\n",
       "│ 50%        ┆ 11.0          ┆ null       │\n",
       "│ 75%        ┆ 16.0          ┆ null       │\n",
       "│ max        ┆ 21.0          ┆ snacks     │\n",
       "└────────────┴───────────────┴────────────┘"
      ]
     },
     "execution_count": 7,
     "metadata": {},
     "output_type": "execute_result"
    }
   ],
   "source": [
    "departments_df.describe()"
   ]
  },
  {
   "cell_type": "code",
   "execution_count": 8,
   "id": "d96fe60c",
   "metadata": {},
   "outputs": [
    {
     "data": {
      "text/html": [
       "<div><style>\n",
       ".dataframe > thead > tr,\n",
       ".dataframe > tbody > tr {\n",
       "  text-align: right;\n",
       "  white-space: pre-wrap;\n",
       "}\n",
       "</style>\n",
       "<small>shape: (5, 4)</small><table border=\"1\" class=\"dataframe\"><thead><tr><th>order_id</th><th>product_id</th><th>add_to_cart_order</th><th>reordered</th></tr><tr><td>i64</td><td>i64</td><td>i64</td><td>i64</td></tr></thead><tbody><tr><td>2</td><td>33120</td><td>1</td><td>1</td></tr><tr><td>2</td><td>28985</td><td>2</td><td>1</td></tr><tr><td>2</td><td>9327</td><td>3</td><td>0</td></tr><tr><td>2</td><td>45918</td><td>4</td><td>1</td></tr><tr><td>2</td><td>30035</td><td>5</td><td>0</td></tr></tbody></table></div>"
      ],
      "text/plain": [
       "shape: (5, 4)\n",
       "┌──────────┬────────────┬───────────────────┬───────────┐\n",
       "│ order_id ┆ product_id ┆ add_to_cart_order ┆ reordered │\n",
       "│ ---      ┆ ---        ┆ ---               ┆ ---       │\n",
       "│ i64      ┆ i64        ┆ i64               ┆ i64       │\n",
       "╞══════════╪════════════╪═══════════════════╪═══════════╡\n",
       "│ 2        ┆ 33120      ┆ 1                 ┆ 1         │\n",
       "│ 2        ┆ 28985      ┆ 2                 ┆ 1         │\n",
       "│ 2        ┆ 9327       ┆ 3                 ┆ 0         │\n",
       "│ 2        ┆ 45918      ┆ 4                 ┆ 1         │\n",
       "│ 2        ┆ 30035      ┆ 5                 ┆ 0         │\n",
       "└──────────┴────────────┴───────────────────┴───────────┘"
      ]
     },
     "execution_count": 8,
     "metadata": {},
     "output_type": "execute_result"
    }
   ],
   "source": [
    "order_prior_df.head()"
   ]
  },
  {
   "cell_type": "code",
   "execution_count": 9,
   "id": "be70a09d",
   "metadata": {},
   "outputs": [
    {
     "data": {
      "text/html": [
       "<div><style>\n",
       ".dataframe > thead > tr,\n",
       ".dataframe > tbody > tr {\n",
       "  text-align: right;\n",
       "  white-space: pre-wrap;\n",
       "}\n",
       "</style>\n",
       "<small>shape: (9, 5)</small><table border=\"1\" class=\"dataframe\"><thead><tr><th>statistic</th><th>order_id</th><th>product_id</th><th>add_to_cart_order</th><th>reordered</th></tr><tr><td>str</td><td>f64</td><td>f64</td><td>f64</td><td>f64</td></tr></thead><tbody><tr><td>&quot;count&quot;</td><td>3.2434489e7</td><td>3.2434489e7</td><td>3.2434489e7</td><td>3.2434489e7</td></tr><tr><td>&quot;null_count&quot;</td><td>0.0</td><td>0.0</td><td>0.0</td><td>0.0</td></tr><tr><td>&quot;mean&quot;</td><td>1.7107e6</td><td>25576.337535</td><td>8.351076</td><td>0.589697</td></tr><tr><td>&quot;std&quot;</td><td>987300.696453</td><td>14096.68909</td><td>7.126671</td><td>0.491889</td></tr><tr><td>&quot;min&quot;</td><td>2.0</td><td>1.0</td><td>1.0</td><td>0.0</td></tr><tr><td>&quot;25%&quot;</td><td>855943.0</td><td>13530.0</td><td>3.0</td><td>0.0</td></tr><tr><td>&quot;50%&quot;</td><td>1.711048e6</td><td>25256.0</td><td>6.0</td><td>1.0</td></tr><tr><td>&quot;75%&quot;</td><td>2.565514e6</td><td>37935.0</td><td>11.0</td><td>1.0</td></tr><tr><td>&quot;max&quot;</td><td>3.421083e6</td><td>49688.0</td><td>145.0</td><td>1.0</td></tr></tbody></table></div>"
      ],
      "text/plain": [
       "shape: (9, 5)\n",
       "┌────────────┬───────────────┬──────────────┬───────────────────┬─────────────┐\n",
       "│ statistic  ┆ order_id      ┆ product_id   ┆ add_to_cart_order ┆ reordered   │\n",
       "│ ---        ┆ ---           ┆ ---          ┆ ---               ┆ ---         │\n",
       "│ str        ┆ f64           ┆ f64          ┆ f64               ┆ f64         │\n",
       "╞════════════╪═══════════════╪══════════════╪═══════════════════╪═════════════╡\n",
       "│ count      ┆ 3.2434489e7   ┆ 3.2434489e7  ┆ 3.2434489e7       ┆ 3.2434489e7 │\n",
       "│ null_count ┆ 0.0           ┆ 0.0          ┆ 0.0               ┆ 0.0         │\n",
       "│ mean       ┆ 1.7107e6      ┆ 25576.337535 ┆ 8.351076          ┆ 0.589697    │\n",
       "│ std        ┆ 987300.696453 ┆ 14096.68909  ┆ 7.126671          ┆ 0.491889    │\n",
       "│ min        ┆ 2.0           ┆ 1.0          ┆ 1.0               ┆ 0.0         │\n",
       "│ 25%        ┆ 855943.0      ┆ 13530.0      ┆ 3.0               ┆ 0.0         │\n",
       "│ 50%        ┆ 1.711048e6    ┆ 25256.0      ┆ 6.0               ┆ 1.0         │\n",
       "│ 75%        ┆ 2.565514e6    ┆ 37935.0      ┆ 11.0              ┆ 1.0         │\n",
       "│ max        ┆ 3.421083e6    ┆ 49688.0      ┆ 145.0             ┆ 1.0         │\n",
       "└────────────┴───────────────┴──────────────┴───────────────────┴─────────────┘"
      ]
     },
     "execution_count": 9,
     "metadata": {},
     "output_type": "execute_result"
    }
   ],
   "source": [
    "order_prior_df.describe()"
   ]
  },
  {
   "cell_type": "code",
   "execution_count": 10,
   "id": "f430be80",
   "metadata": {},
   "outputs": [
    {
     "data": {
      "text/html": [
       "<div><style>\n",
       ".dataframe > thead > tr,\n",
       ".dataframe > tbody > tr {\n",
       "  text-align: right;\n",
       "  white-space: pre-wrap;\n",
       "}\n",
       "</style>\n",
       "<small>shape: (5, 4)</small><table border=\"1\" class=\"dataframe\"><thead><tr><th>order_id</th><th>product_id</th><th>add_to_cart_order</th><th>reordered</th></tr><tr><td>i64</td><td>i64</td><td>i64</td><td>i64</td></tr></thead><tbody><tr><td>1</td><td>49302</td><td>1</td><td>1</td></tr><tr><td>1</td><td>11109</td><td>2</td><td>1</td></tr><tr><td>1</td><td>10246</td><td>3</td><td>0</td></tr><tr><td>1</td><td>49683</td><td>4</td><td>0</td></tr><tr><td>1</td><td>43633</td><td>5</td><td>1</td></tr></tbody></table></div>"
      ],
      "text/plain": [
       "shape: (5, 4)\n",
       "┌──────────┬────────────┬───────────────────┬───────────┐\n",
       "│ order_id ┆ product_id ┆ add_to_cart_order ┆ reordered │\n",
       "│ ---      ┆ ---        ┆ ---               ┆ ---       │\n",
       "│ i64      ┆ i64        ┆ i64               ┆ i64       │\n",
       "╞══════════╪════════════╪═══════════════════╪═══════════╡\n",
       "│ 1        ┆ 49302      ┆ 1                 ┆ 1         │\n",
       "│ 1        ┆ 11109      ┆ 2                 ┆ 1         │\n",
       "│ 1        ┆ 10246      ┆ 3                 ┆ 0         │\n",
       "│ 1        ┆ 49683      ┆ 4                 ┆ 0         │\n",
       "│ 1        ┆ 43633      ┆ 5                 ┆ 1         │\n",
       "└──────────┴────────────┴───────────────────┴───────────┘"
      ]
     },
     "execution_count": 10,
     "metadata": {},
     "output_type": "execute_result"
    }
   ],
   "source": [
    "order_train_df.head()"
   ]
  },
  {
   "cell_type": "code",
   "execution_count": 11,
   "id": "9e2ba18a",
   "metadata": {},
   "outputs": [
    {
     "data": {
      "text/html": [
       "<div><style>\n",
       ".dataframe > thead > tr,\n",
       ".dataframe > tbody > tr {\n",
       "  text-align: right;\n",
       "  white-space: pre-wrap;\n",
       "}\n",
       "</style>\n",
       "<small>shape: (9, 5)</small><table border=\"1\" class=\"dataframe\"><thead><tr><th>statistic</th><th>order_id</th><th>product_id</th><th>add_to_cart_order</th><th>reordered</th></tr><tr><td>str</td><td>f64</td><td>f64</td><td>f64</td><td>f64</td></tr></thead><tbody><tr><td>&quot;count&quot;</td><td>1.384617e6</td><td>1.384617e6</td><td>1.384617e6</td><td>1.384617e6</td></tr><tr><td>&quot;null_count&quot;</td><td>0.0</td><td>0.0</td><td>0.0</td><td>0.0</td></tr><tr><td>&quot;mean&quot;</td><td>1.7063e6</td><td>25556.235729</td><td>8.758044</td><td>0.598594</td></tr><tr><td>&quot;std&quot;</td><td>989732.648868</td><td>14121.272449</td><td>7.423936</td><td>0.490183</td></tr><tr><td>&quot;min&quot;</td><td>1.0</td><td>1.0</td><td>1.0</td><td>0.0</td></tr><tr><td>&quot;25%&quot;</td><td>843370.0</td><td>13380.0</td><td>3.0</td><td>0.0</td></tr><tr><td>&quot;50%&quot;</td><td>1.70188e6</td><td>25298.0</td><td>7.0</td><td>1.0</td></tr><tr><td>&quot;75%&quot;</td><td>2.568023e6</td><td>37940.0</td><td>12.0</td><td>1.0</td></tr><tr><td>&quot;max&quot;</td><td>3.42107e6</td><td>49688.0</td><td>80.0</td><td>1.0</td></tr></tbody></table></div>"
      ],
      "text/plain": [
       "shape: (9, 5)\n",
       "┌────────────┬───────────────┬──────────────┬───────────────────┬────────────┐\n",
       "│ statistic  ┆ order_id      ┆ product_id   ┆ add_to_cart_order ┆ reordered  │\n",
       "│ ---        ┆ ---           ┆ ---          ┆ ---               ┆ ---        │\n",
       "│ str        ┆ f64           ┆ f64          ┆ f64               ┆ f64        │\n",
       "╞════════════╪═══════════════╪══════════════╪═══════════════════╪════════════╡\n",
       "│ count      ┆ 1.384617e6    ┆ 1.384617e6   ┆ 1.384617e6        ┆ 1.384617e6 │\n",
       "│ null_count ┆ 0.0           ┆ 0.0          ┆ 0.0               ┆ 0.0        │\n",
       "│ mean       ┆ 1.7063e6      ┆ 25556.235729 ┆ 8.758044          ┆ 0.598594   │\n",
       "│ std        ┆ 989732.648868 ┆ 14121.272449 ┆ 7.423936          ┆ 0.490183   │\n",
       "│ min        ┆ 1.0           ┆ 1.0          ┆ 1.0               ┆ 0.0        │\n",
       "│ 25%        ┆ 843370.0      ┆ 13380.0      ┆ 3.0               ┆ 0.0        │\n",
       "│ 50%        ┆ 1.70188e6     ┆ 25298.0      ┆ 7.0               ┆ 1.0        │\n",
       "│ 75%        ┆ 2.568023e6    ┆ 37940.0      ┆ 12.0              ┆ 1.0        │\n",
       "│ max        ┆ 3.42107e6     ┆ 49688.0      ┆ 80.0              ┆ 1.0        │\n",
       "└────────────┴───────────────┴──────────────┴───────────────────┴────────────┘"
      ]
     },
     "execution_count": 11,
     "metadata": {},
     "output_type": "execute_result"
    }
   ],
   "source": [
    "order_train_df.describe()"
   ]
  },
  {
   "cell_type": "code",
   "execution_count": 12,
   "id": "224d4d5a",
   "metadata": {},
   "outputs": [
    {
     "data": {
      "text/html": [
       "<div><style>\n",
       ".dataframe > thead > tr,\n",
       ".dataframe > tbody > tr {\n",
       "  text-align: right;\n",
       "  white-space: pre-wrap;\n",
       "}\n",
       "</style>\n",
       "<small>shape: (5, 7)</small><table border=\"1\" class=\"dataframe\"><thead><tr><th>order_id</th><th>user_id</th><th>eval_set</th><th>order_number</th><th>order_dow</th><th>order_hour_of_day</th><th>days_since_prior_order</th></tr><tr><td>i64</td><td>i64</td><td>str</td><td>i64</td><td>i64</td><td>i64</td><td>f64</td></tr></thead><tbody><tr><td>2539329</td><td>1</td><td>&quot;prior&quot;</td><td>1</td><td>2</td><td>8</td><td>null</td></tr><tr><td>2398795</td><td>1</td><td>&quot;prior&quot;</td><td>2</td><td>3</td><td>7</td><td>15.0</td></tr><tr><td>473747</td><td>1</td><td>&quot;prior&quot;</td><td>3</td><td>3</td><td>12</td><td>21.0</td></tr><tr><td>2254736</td><td>1</td><td>&quot;prior&quot;</td><td>4</td><td>4</td><td>7</td><td>29.0</td></tr><tr><td>431534</td><td>1</td><td>&quot;prior&quot;</td><td>5</td><td>4</td><td>15</td><td>28.0</td></tr></tbody></table></div>"
      ],
      "text/plain": [
       "shape: (5, 7)\n",
       "┌──────────┬─────────┬──────────┬──────────────┬───────────┬───────────────────┬───────────────────┐\n",
       "│ order_id ┆ user_id ┆ eval_set ┆ order_number ┆ order_dow ┆ order_hour_of_day ┆ days_since_prior_ │\n",
       "│ ---      ┆ ---     ┆ ---      ┆ ---          ┆ ---       ┆ ---               ┆ order             │\n",
       "│ i64      ┆ i64     ┆ str      ┆ i64          ┆ i64       ┆ i64               ┆ ---               │\n",
       "│          ┆         ┆          ┆              ┆           ┆                   ┆ f64               │\n",
       "╞══════════╪═════════╪══════════╪══════════════╪═══════════╪═══════════════════╪═══════════════════╡\n",
       "│ 2539329  ┆ 1       ┆ prior    ┆ 1            ┆ 2         ┆ 8                 ┆ null              │\n",
       "│ 2398795  ┆ 1       ┆ prior    ┆ 2            ┆ 3         ┆ 7                 ┆ 15.0              │\n",
       "│ 473747   ┆ 1       ┆ prior    ┆ 3            ┆ 3         ┆ 12                ┆ 21.0              │\n",
       "│ 2254736  ┆ 1       ┆ prior    ┆ 4            ┆ 4         ┆ 7                 ┆ 29.0              │\n",
       "│ 431534   ┆ 1       ┆ prior    ┆ 5            ┆ 4         ┆ 15                ┆ 28.0              │\n",
       "└──────────┴─────────┴──────────┴──────────────┴───────────┴───────────────────┴───────────────────┘"
      ]
     },
     "execution_count": 12,
     "metadata": {},
     "output_type": "execute_result"
    }
   ],
   "source": [
    "orders_df.head()"
   ]
  },
  {
   "cell_type": "code",
   "execution_count": 13,
   "id": "6198c728",
   "metadata": {},
   "outputs": [
    {
     "data": {
      "text/html": [
       "<div><style>\n",
       ".dataframe > thead > tr,\n",
       ".dataframe > tbody > tr {\n",
       "  text-align: right;\n",
       "  white-space: pre-wrap;\n",
       "}\n",
       "</style>\n",
       "<small>shape: (9, 8)</small><table border=\"1\" class=\"dataframe\"><thead><tr><th>statistic</th><th>order_id</th><th>user_id</th><th>eval_set</th><th>order_number</th><th>order_dow</th><th>order_hour_of_day</th><th>days_since_prior_order</th></tr><tr><td>str</td><td>f64</td><td>f64</td><td>str</td><td>f64</td><td>f64</td><td>f64</td><td>f64</td></tr></thead><tbody><tr><td>&quot;count&quot;</td><td>3.421083e6</td><td>3.421083e6</td><td>&quot;3421083&quot;</td><td>3.421083e6</td><td>3.421083e6</td><td>3.421083e6</td><td>3.214874e6</td></tr><tr><td>&quot;null_count&quot;</td><td>0.0</td><td>0.0</td><td>&quot;0&quot;</td><td>0.0</td><td>0.0</td><td>0.0</td><td>206209.0</td></tr><tr><td>&quot;mean&quot;</td><td>1.710542e6</td><td>102978.208059</td><td>null</td><td>17.154858</td><td>2.776219</td><td>13.452015</td><td>11.114836</td></tr><tr><td>&quot;std&quot;</td><td>987581.739823</td><td>59533.717794</td><td>null</td><td>17.733164</td><td>2.046829</td><td>4.226088</td><td>9.206737</td></tr><tr><td>&quot;min&quot;</td><td>1.0</td><td>1.0</td><td>&quot;prior&quot;</td><td>1.0</td><td>0.0</td><td>0.0</td><td>0.0</td></tr><tr><td>&quot;25%&quot;</td><td>855272.0</td><td>51394.0</td><td>null</td><td>5.0</td><td>1.0</td><td>10.0</td><td>4.0</td></tr><tr><td>&quot;50%&quot;</td><td>1.710542e6</td><td>102689.0</td><td>null</td><td>11.0</td><td>3.0</td><td>13.0</td><td>7.0</td></tr><tr><td>&quot;75%&quot;</td><td>2.565813e6</td><td>154385.0</td><td>null</td><td>23.0</td><td>5.0</td><td>16.0</td><td>15.0</td></tr><tr><td>&quot;max&quot;</td><td>3.421083e6</td><td>206209.0</td><td>&quot;train&quot;</td><td>100.0</td><td>6.0</td><td>23.0</td><td>30.0</td></tr></tbody></table></div>"
      ],
      "text/plain": [
       "shape: (9, 8)\n",
       "┌────────────┬────────────┬────────────┬──────────┬────────────┬───────────┬───────────┬───────────┐\n",
       "│ statistic  ┆ order_id   ┆ user_id    ┆ eval_set ┆ order_numb ┆ order_dow ┆ order_hou ┆ days_sinc │\n",
       "│ ---        ┆ ---        ┆ ---        ┆ ---      ┆ er         ┆ ---       ┆ r_of_day  ┆ e_prior_o │\n",
       "│ str        ┆ f64        ┆ f64        ┆ str      ┆ ---        ┆ f64       ┆ ---       ┆ rder      │\n",
       "│            ┆            ┆            ┆          ┆ f64        ┆           ┆ f64       ┆ ---       │\n",
       "│            ┆            ┆            ┆          ┆            ┆           ┆           ┆ f64       │\n",
       "╞════════════╪════════════╪════════════╪══════════╪════════════╪═══════════╪═══════════╪═══════════╡\n",
       "│ count      ┆ 3.421083e6 ┆ 3.421083e6 ┆ 3421083  ┆ 3.421083e6 ┆ 3.421083e ┆ 3.421083e ┆ 3.214874e │\n",
       "│            ┆            ┆            ┆          ┆            ┆ 6         ┆ 6         ┆ 6         │\n",
       "│ null_count ┆ 0.0        ┆ 0.0        ┆ 0        ┆ 0.0        ┆ 0.0       ┆ 0.0       ┆ 206209.0  │\n",
       "│ mean       ┆ 1.710542e6 ┆ 102978.208 ┆ null     ┆ 17.154858  ┆ 2.776219  ┆ 13.452015 ┆ 11.114836 │\n",
       "│            ┆            ┆ 059        ┆          ┆            ┆           ┆           ┆           │\n",
       "│ std        ┆ 987581.739 ┆ 59533.7177 ┆ null     ┆ 17.733164  ┆ 2.046829  ┆ 4.226088  ┆ 9.206737  │\n",
       "│            ┆ 823        ┆ 94         ┆          ┆            ┆           ┆           ┆           │\n",
       "│ min        ┆ 1.0        ┆ 1.0        ┆ prior    ┆ 1.0        ┆ 0.0       ┆ 0.0       ┆ 0.0       │\n",
       "│ 25%        ┆ 855272.0   ┆ 51394.0    ┆ null     ┆ 5.0        ┆ 1.0       ┆ 10.0      ┆ 4.0       │\n",
       "│ 50%        ┆ 1.710542e6 ┆ 102689.0   ┆ null     ┆ 11.0       ┆ 3.0       ┆ 13.0      ┆ 7.0       │\n",
       "│ 75%        ┆ 2.565813e6 ┆ 154385.0   ┆ null     ┆ 23.0       ┆ 5.0       ┆ 16.0      ┆ 15.0      │\n",
       "│ max        ┆ 3.421083e6 ┆ 206209.0   ┆ train    ┆ 100.0      ┆ 6.0       ┆ 23.0      ┆ 30.0      │\n",
       "└────────────┴────────────┴────────────┴──────────┴────────────┴───────────┴───────────┴───────────┘"
      ]
     },
     "execution_count": 13,
     "metadata": {},
     "output_type": "execute_result"
    }
   ],
   "source": [
    "orders_df.describe()"
   ]
  },
  {
   "cell_type": "code",
   "execution_count": 14,
   "id": "59c542d0",
   "metadata": {},
   "outputs": [
    {
     "data": {
      "text/html": [
       "<div><style>\n",
       ".dataframe > thead > tr,\n",
       ".dataframe > tbody > tr {\n",
       "  text-align: right;\n",
       "  white-space: pre-wrap;\n",
       "}\n",
       "</style>\n",
       "<small>shape: (5, 4)</small><table border=\"1\" class=\"dataframe\"><thead><tr><th>product_id</th><th>product_name</th><th>aisle_id</th><th>department_id</th></tr><tr><td>i64</td><td>str</td><td>i64</td><td>i64</td></tr></thead><tbody><tr><td>1</td><td>&quot;Chocolate Sandwich Cookies&quot;</td><td>61</td><td>19</td></tr><tr><td>2</td><td>&quot;All-Seasons Salt&quot;</td><td>104</td><td>13</td></tr><tr><td>3</td><td>&quot;Robust Golden Unsweetened Oolo…</td><td>94</td><td>7</td></tr><tr><td>4</td><td>&quot;Smart Ones Classic Favorites M…</td><td>38</td><td>1</td></tr><tr><td>5</td><td>&quot;Green Chile Anytime Sauce&quot;</td><td>5</td><td>13</td></tr></tbody></table></div>"
      ],
      "text/plain": [
       "shape: (5, 4)\n",
       "┌────────────┬─────────────────────────────────┬──────────┬───────────────┐\n",
       "│ product_id ┆ product_name                    ┆ aisle_id ┆ department_id │\n",
       "│ ---        ┆ ---                             ┆ ---      ┆ ---           │\n",
       "│ i64        ┆ str                             ┆ i64      ┆ i64           │\n",
       "╞════════════╪═════════════════════════════════╪══════════╪═══════════════╡\n",
       "│ 1          ┆ Chocolate Sandwich Cookies      ┆ 61       ┆ 19            │\n",
       "│ 2          ┆ All-Seasons Salt                ┆ 104      ┆ 13            │\n",
       "│ 3          ┆ Robust Golden Unsweetened Oolo… ┆ 94       ┆ 7             │\n",
       "│ 4          ┆ Smart Ones Classic Favorites M… ┆ 38       ┆ 1             │\n",
       "│ 5          ┆ Green Chile Anytime Sauce       ┆ 5        ┆ 13            │\n",
       "└────────────┴─────────────────────────────────┴──────────┴───────────────┘"
      ]
     },
     "execution_count": 14,
     "metadata": {},
     "output_type": "execute_result"
    }
   ],
   "source": [
    "products_df.head()"
   ]
  },
  {
   "cell_type": "code",
   "execution_count": 15,
   "id": "15d904eb",
   "metadata": {},
   "outputs": [
    {
     "data": {
      "text/html": [
       "<div><style>\n",
       ".dataframe > thead > tr,\n",
       ".dataframe > tbody > tr {\n",
       "  text-align: right;\n",
       "  white-space: pre-wrap;\n",
       "}\n",
       "</style>\n",
       "<small>shape: (9, 5)</small><table border=\"1\" class=\"dataframe\"><thead><tr><th>statistic</th><th>product_id</th><th>product_name</th><th>aisle_id</th><th>department_id</th></tr><tr><td>str</td><td>f64</td><td>str</td><td>f64</td><td>f64</td></tr></thead><tbody><tr><td>&quot;count&quot;</td><td>49688.0</td><td>&quot;49688&quot;</td><td>49688.0</td><td>49688.0</td></tr><tr><td>&quot;null_count&quot;</td><td>0.0</td><td>&quot;0&quot;</td><td>0.0</td><td>0.0</td></tr><tr><td>&quot;mean&quot;</td><td>24844.5</td><td>null</td><td>67.769582</td><td>11.728687</td></tr><tr><td>&quot;std&quot;</td><td>14343.834425</td><td>null</td><td>38.316162</td><td>5.85041</td></tr><tr><td>&quot;min&quot;</td><td>1.0</td><td>&quot;#2 Coffee Filters&quot;</td><td>1.0</td><td>1.0</td></tr><tr><td>&quot;25%&quot;</td><td>12423.0</td><td>null</td><td>35.0</td><td>7.0</td></tr><tr><td>&quot;50%&quot;</td><td>24845.0</td><td>null</td><td>69.0</td><td>13.0</td></tr><tr><td>&quot;75%&quot;</td><td>37266.0</td><td>null</td><td>100.0</td><td>17.0</td></tr><tr><td>&quot;max&quot;</td><td>49688.0</td><td>&quot;with a Splash of Pineapple Coc…</td><td>134.0</td><td>21.0</td></tr></tbody></table></div>"
      ],
      "text/plain": [
       "shape: (9, 5)\n",
       "┌────────────┬──────────────┬─────────────────────────────────┬───────────┬───────────────┐\n",
       "│ statistic  ┆ product_id   ┆ product_name                    ┆ aisle_id  ┆ department_id │\n",
       "│ ---        ┆ ---          ┆ ---                             ┆ ---       ┆ ---           │\n",
       "│ str        ┆ f64          ┆ str                             ┆ f64       ┆ f64           │\n",
       "╞════════════╪══════════════╪═════════════════════════════════╪═══════════╪═══════════════╡\n",
       "│ count      ┆ 49688.0      ┆ 49688                           ┆ 49688.0   ┆ 49688.0       │\n",
       "│ null_count ┆ 0.0          ┆ 0                               ┆ 0.0       ┆ 0.0           │\n",
       "│ mean       ┆ 24844.5      ┆ null                            ┆ 67.769582 ┆ 11.728687     │\n",
       "│ std        ┆ 14343.834425 ┆ null                            ┆ 38.316162 ┆ 5.85041       │\n",
       "│ min        ┆ 1.0          ┆ #2 Coffee Filters               ┆ 1.0       ┆ 1.0           │\n",
       "│ 25%        ┆ 12423.0      ┆ null                            ┆ 35.0      ┆ 7.0           │\n",
       "│ 50%        ┆ 24845.0      ┆ null                            ┆ 69.0      ┆ 13.0          │\n",
       "│ 75%        ┆ 37266.0      ┆ null                            ┆ 100.0     ┆ 17.0          │\n",
       "│ max        ┆ 49688.0      ┆ with a Splash of Pineapple Coc… ┆ 134.0     ┆ 21.0          │\n",
       "└────────────┴──────────────┴─────────────────────────────────┴───────────┴───────────────┘"
      ]
     },
     "execution_count": 15,
     "metadata": {},
     "output_type": "execute_result"
    }
   ],
   "source": [
    "products_df.describe()"
   ]
  },
  {
   "cell_type": "markdown",
   "id": "23751ad0",
   "metadata": {},
   "source": [
    "### Key Objective\n",
    "The goal is to predict which products will be in a user's next order (test set) based on their past purchase patterns.\n",
    "\n",
    "#### File Descriptions\n",
    "\n",
    "**`aisles.csv`**\n",
    "- **Columns:**\n",
    "  - `aisle_id`: Unique identifier for an aisle.\n",
    "  - `aisle`: Name of the aisle (e.g., \"prepared soups salads\").\n",
    "- **Purpose:**  \n",
    "  Helps categorize products into specific aisles, aiding in identifying customer preferences at a granular level.\n",
    "\n",
    "**`departments.csv`**\n",
    "- **Columns:**\n",
    "  - `department_id`: Unique identifier for a department.\n",
    "  - `department`: Name of the department (e.g., \"frozen\").\n",
    "- **Purpose:**  \n",
    "  Broadly categorizes products by department, which can help analyze purchasing patterns at a higher level.\n",
    "\n",
    "**`order_products__*.csv`**\n",
    "- **Files:**\n",
    "  - `order_products__prior.csv`: Past order details for all users.\n",
    "  - `order_products__train.csv`: Ground truth for training predictions on product reordering.\n",
    "- **Columns:**\n",
    "  - `order_id`: Unique identifier for an order.\n",
    "  - `product_id`: Unique identifier for a product.\n",
    "  - `add_to_cart_order`: Sequence in which the product was added to the cart.\n",
    "  - `reordered`: Binary (1 if the product was reordered, 0 otherwise).\n",
    "- **Purpose:**  \n",
    "  Details about the products purchased in each order, including reordering behavior, which is key to prediction.\n",
    "\n",
    "**`orders.csv`**\n",
    "- **Columns:**\n",
    "  - `order_id`: Unique identifier for an order.\n",
    "  - `user_id`: Unique identifier for a user.\n",
    "  - `eval_set`: Specifies the dataset the order belongs to (`prior`, `train`, `test`).\n",
    "  - `order_number`: Order sequence number for the user.\n",
    "  - `order_dow`: Day of the week the order was placed (0-6).\n",
    "  - `order_hour_of_day`: Hour the order was placed (0-23).\n",
    "  - `days_since_prior_order`: Days since the previous order (missing for the first order).\n",
    "- **Purpose:**  \n",
    "  Provides a timeline of user orders and metadata for temporal analysis and modeling.\n",
    "\n",
    "**`products.csv`**\n",
    "- **Columns:**\n",
    "  - `product_id`: Unique identifier for a product.\n",
    "  - `product_name`: Name of the product (e.g., \"Chocolate Sandwich Cookies\").\n",
    "  - `aisle_id`: Identifier linking the product to an aisle.\n",
    "  - `department_id`: Identifier linking the product to a department.\n",
    "- **Purpose:**  \n",
    "  Links products to aisles and departments, enabling hierarchical grouping.\n",
    "\n",
    "**`sample_submission.csv`**\n",
    "- **Columns:**\n",
    "  - `order_id`: Identifier for a test set order.\n",
    "  - `products`: Placeholder for predicted product IDs (comma-separated) for each order.\n",
    "- **Purpose:**  \n",
    "  Template for submission format."
   ]
  },
  {
   "cell_type": "code",
   "execution_count": 16,
   "id": "d13e61ad",
   "metadata": {},
   "outputs": [],
   "source": [
    "orders_df = orders_df.with_columns(\n",
    "    pl.when(pl.col(\"eval_set\") == \"prior\").then(0)\n",
    "    .when(pl.col(\"eval_set\") == \"train\").then(1)\n",
    "    .when(pl.col(\"eval_set\") == \"test\").then(2)\n",
    "    .otherwise(pl.col(\"eval_set\")).cast(pl.Int32).alias(\"eval_set\")\n",
    ")"
   ]
  },
  {
   "cell_type": "code",
   "execution_count": 17,
   "id": "aeec0a76",
   "metadata": {},
   "outputs": [
    {
     "data": {
      "text/html": [
       "<div><style>\n",
       ".dataframe > thead > tr,\n",
       ".dataframe > tbody > tr {\n",
       "  text-align: right;\n",
       "  white-space: pre-wrap;\n",
       "}\n",
       "</style>\n",
       "<small>shape: (0, 0)</small><table border=\"1\" class=\"dataframe\"><thead><tr></tr><tr></tr></thead><tbody></tbody></table></div>"
      ],
      "text/plain": [
       "shape: (0, 0)\n",
       "┌┐\n",
       "╞╡\n",
       "└┘"
      ]
     },
     "execution_count": 17,
     "metadata": {},
     "output_type": "execute_result"
    }
   ],
   "source": [
    "aisles_df.select(pl.col(pl.Float64) | pl.col(pl.Int64))"
   ]
  },
  {
   "cell_type": "code",
   "execution_count": 18,
   "id": "65583ddc",
   "metadata": {},
   "outputs": [],
   "source": [
    "# a function to understand the data\n",
    "\n",
    "def get_stats(df):\n",
    "  n_rows = df.shape[0]\n",
    "  columns = df.columns\n",
    "  dtypes = df.dtypes\n",
    "  total_cnt = df.select(pl.col(\"*\").drop_nulls().count())\n",
    "  null_cnt = df.select([\n",
    "        (n_rows - pl.col(col).drop_nulls().count()).alias(f\"{col}_null_count\")\n",
    "        for col in df.columns\n",
    "    ])\n",
    "  missing_perc = null_cnt.with_columns([\n",
    "        (pl.col(col) / n_rows * 100).alias(f\"{col}_missing_percentage\")\n",
    "        for col in null_cnt.columns\n",
    "    ])\n",
    "  unq_vals = {col: df[col].n_unique() for col in df.columns}\n",
    "  total_unqs = {col: df[col].unique().to_list() for col in df.columns}\n",
    "  numeric_cols = df.select(pl.col(pl.Int64) | pl.col(pl.Float64))\n",
    "\n",
    "  if numeric_cols.columns:\n",
    "    kurtosis_vals = {}\n",
    "    skewness_vals = {}\n",
    "\n",
    "    for col in numeric_cols.columns:\n",
    "      data = numeric_cols.select(pl.col(col)).to_numpy().flatten()\n",
    "      kurtosis_vals[col] = kurtosis(data)\n",
    "      skewness_vals[col] = skew(data)\n",
    "\n",
    "    kurtosis_list = [kurtosis_vals.get(col, None) for col in df.columns]\n",
    "    skewness_list = [skewness_vals.get(col, None) for col in df.columns]\n",
    "  else:\n",
    "    kurtosis_list = [None] * len(df.columns)\n",
    "    skewness_list = [None] * len(df.columns)\n",
    "\n",
    "  summary = pl.DataFrame({\n",
    "    \"Columns\": columns,\n",
    "    \"Data Type\": dtypes,\n",
    "    \"Non-Null count\": [total_cnt[col][0] for col in df.columns],\n",
    "    \"Null count\": [null_cnt[f\"{col}_null_count\"][0] for col in df.columns],\n",
    "    \"Missing Percentage (%)\": [missing_perc[f\"{col}_null_count_missing_percentage\"][0] for col in df.columns],\n",
    "    \"Number of Unique Values\": [unq_vals[col] for col in df.columns],\n",
    "    \"Sample Unique Values\": [total_unqs[col] for col in df.columns]\n",
    "  }, strict=False)\n",
    "\n",
    "  summary = summary.with_columns([\n",
    "    pl.Series(\"Kurtosis\", kurtosis_list),\n",
    "    pl.Series(\"Skewness\", skewness_list)\n",
    "    ])\n",
    "  \n",
    "  return summary\n"
   ]
  },
  {
   "cell_type": "code",
   "execution_count": 19,
   "id": "9cfb47f7",
   "metadata": {},
   "outputs": [
    {
     "data": {
      "text/html": [
       "<div><style>\n",
       ".dataframe > thead > tr,\n",
       ".dataframe > tbody > tr {\n",
       "  text-align: right;\n",
       "  white-space: pre-wrap;\n",
       "}\n",
       "</style>\n",
       "<small>shape: (2, 9)</small><table border=\"1\" class=\"dataframe\"><thead><tr><th>Columns</th><th>Data Type</th><th>Non-Null count</th><th>Null count</th><th>Missing Percentage (%)</th><th>Number of Unique Values</th><th>Sample Unique Values</th><th>Kurtosis</th><th>Skewness</th></tr><tr><td>str</td><td>object</td><td>i64</td><td>i64</td><td>f64</td><td>i64</td><td>list[str]</td><td>f64</td><td>f64</td></tr></thead><tbody><tr><td>&quot;aisle_id&quot;</td><td>Int64</td><td>134</td><td>0</td><td>0.0</td><td>134</td><td>[&quot;1&quot;, &quot;2&quot;, … &quot;134&quot;]</td><td>-1.200134</td><td>0.0</td></tr><tr><td>&quot;aisle&quot;</td><td>String</td><td>134</td><td>0</td><td>0.0</td><td>134</td><td>[&quot;fresh dips tapenades&quot;, &quot;granola&quot;, … &quot;crackers&quot;]</td><td>null</td><td>null</td></tr></tbody></table></div>"
      ],
      "text/plain": [
       "shape: (2, 9)\n",
       "┌──────────┬───────────┬─────────────┬───────┬───┬─────────────┬────────────┬───────────┬──────────┐\n",
       "│ Columns  ┆ Data Type ┆ Non-Null    ┆ Null  ┆ … ┆ Number of   ┆ Sample     ┆ Kurtosis  ┆ Skewness │\n",
       "│ ---      ┆ ---       ┆ count       ┆ count ┆   ┆ Unique      ┆ Unique     ┆ ---       ┆ ---      │\n",
       "│ str      ┆ object    ┆ ---         ┆ ---   ┆   ┆ Values      ┆ Values     ┆ f64       ┆ f64      │\n",
       "│          ┆           ┆ i64         ┆ i64   ┆   ┆ ---         ┆ ---        ┆           ┆          │\n",
       "│          ┆           ┆             ┆       ┆   ┆ i64         ┆ list[str]  ┆           ┆          │\n",
       "╞══════════╪═══════════╪═════════════╪═══════╪═══╪═════════════╪════════════╪═══════════╪══════════╡\n",
       "│ aisle_id ┆ Int64     ┆ 134         ┆ 0     ┆ … ┆ 134         ┆ [\"1\", \"2\", ┆ -1.200134 ┆ 0.0      │\n",
       "│          ┆           ┆             ┆       ┆   ┆             ┆ … \"134\"]   ┆           ┆          │\n",
       "│ aisle    ┆ String    ┆ 134         ┆ 0     ┆ … ┆ 134         ┆ [\"fresh    ┆ null      ┆ null     │\n",
       "│          ┆           ┆             ┆       ┆   ┆             ┆ dips tapen ┆           ┆          │\n",
       "│          ┆           ┆             ┆       ┆   ┆             ┆ ades\",     ┆           ┆          │\n",
       "│          ┆           ┆             ┆       ┆   ┆             ┆ \"gran…     ┆           ┆          │\n",
       "└──────────┴───────────┴─────────────┴───────┴───┴─────────────┴────────────┴───────────┴──────────┘"
      ]
     },
     "execution_count": 19,
     "metadata": {},
     "output_type": "execute_result"
    }
   ],
   "source": [
    "get_stats(aisles_df)"
   ]
  },
  {
   "cell_type": "code",
   "execution_count": 20,
   "id": "058ac004",
   "metadata": {},
   "outputs": [
    {
     "data": {
      "text/html": [
       "<div><style>\n",
       ".dataframe > thead > tr,\n",
       ".dataframe > tbody > tr {\n",
       "  text-align: right;\n",
       "  white-space: pre-wrap;\n",
       "}\n",
       "</style>\n",
       "<small>shape: (2, 9)</small><table border=\"1\" class=\"dataframe\"><thead><tr><th>Columns</th><th>Data Type</th><th>Non-Null count</th><th>Null count</th><th>Missing Percentage (%)</th><th>Number of Unique Values</th><th>Sample Unique Values</th><th>Kurtosis</th><th>Skewness</th></tr><tr><td>str</td><td>object</td><td>i64</td><td>i64</td><td>f64</td><td>i64</td><td>list[str]</td><td>f64</td><td>f64</td></tr></thead><tbody><tr><td>&quot;department_id&quot;</td><td>Int64</td><td>21</td><td>0</td><td>0.0</td><td>21</td><td>[&quot;1&quot;, &quot;2&quot;, … &quot;21&quot;]</td><td>-1.205455</td><td>0.0</td></tr><tr><td>&quot;department&quot;</td><td>String</td><td>21</td><td>0</td><td>0.0</td><td>21</td><td>[&quot;alcohol&quot;, &quot;snacks&quot;, … &quot;babies&quot;]</td><td>null</td><td>null</td></tr></tbody></table></div>"
      ],
      "text/plain": [
       "shape: (2, 9)\n",
       "┌────────────┬───────────┬────────────┬───────┬───┬────────────┬────────────┬───────────┬──────────┐\n",
       "│ Columns    ┆ Data Type ┆ Non-Null   ┆ Null  ┆ … ┆ Number of  ┆ Sample     ┆ Kurtosis  ┆ Skewness │\n",
       "│ ---        ┆ ---       ┆ count      ┆ count ┆   ┆ Unique     ┆ Unique     ┆ ---       ┆ ---      │\n",
       "│ str        ┆ object    ┆ ---        ┆ ---   ┆   ┆ Values     ┆ Values     ┆ f64       ┆ f64      │\n",
       "│            ┆           ┆ i64        ┆ i64   ┆   ┆ ---        ┆ ---        ┆           ┆          │\n",
       "│            ┆           ┆            ┆       ┆   ┆ i64        ┆ list[str]  ┆           ┆          │\n",
       "╞════════════╪═══════════╪════════════╪═══════╪═══╪════════════╪════════════╪═══════════╪══════════╡\n",
       "│ department ┆ Int64     ┆ 21         ┆ 0     ┆ … ┆ 21         ┆ [\"1\", \"2\", ┆ -1.205455 ┆ 0.0      │\n",
       "│ _id        ┆           ┆            ┆       ┆   ┆            ┆ … \"21\"]    ┆           ┆          │\n",
       "│ department ┆ String    ┆ 21         ┆ 0     ┆ … ┆ 21         ┆ [\"alcohol\" ┆ null      ┆ null     │\n",
       "│            ┆           ┆            ┆       ┆   ┆            ┆ ,          ┆           ┆          │\n",
       "│            ┆           ┆            ┆       ┆   ┆            ┆ \"snacks\",  ┆           ┆          │\n",
       "│            ┆           ┆            ┆       ┆   ┆            ┆ … \"babie…  ┆           ┆          │\n",
       "└────────────┴───────────┴────────────┴───────┴───┴────────────┴────────────┴───────────┴──────────┘"
      ]
     },
     "execution_count": 20,
     "metadata": {},
     "output_type": "execute_result"
    }
   ],
   "source": [
    "get_stats(departments_df)"
   ]
  },
  {
   "cell_type": "code",
   "execution_count": 21,
   "id": "7568aeb5",
   "metadata": {},
   "outputs": [
    {
     "data": {
      "text/html": [
       "<div><style>\n",
       ".dataframe > thead > tr,\n",
       ".dataframe > tbody > tr {\n",
       "  text-align: right;\n",
       "  white-space: pre-wrap;\n",
       "}\n",
       "</style>\n",
       "<small>shape: (4, 9)</small><table border=\"1\" class=\"dataframe\"><thead><tr><th>Columns</th><th>Data Type</th><th>Non-Null count</th><th>Null count</th><th>Missing Percentage (%)</th><th>Number of Unique Values</th><th>Sample Unique Values</th><th>Kurtosis</th><th>Skewness</th></tr><tr><td>str</td><td>object</td><td>i64</td><td>i64</td><td>f64</td><td>i64</td><td>list[i64]</td><td>f64</td><td>f64</td></tr></thead><tbody><tr><td>&quot;order_id&quot;</td><td>Int64</td><td>32434489</td><td>0</td><td>0.0</td><td>3214874</td><td>[2, 3, … 3421083]</td><td>-1.199128</td><td>-0.00049</td></tr><tr><td>&quot;product_id&quot;</td><td>Int64</td><td>32434489</td><td>0</td><td>0.0</td><td>49677</td><td>[1, 2, … 49688]</td><td>-1.140817</td><td>-0.021131</td></tr><tr><td>&quot;add_to_cart_order&quot;</td><td>Int64</td><td>32434489</td><td>0</td><td>0.0</td><td>145</td><td>[1, 2, … 145]</td><td>5.643872</td><td>1.818071</td></tr><tr><td>&quot;reordered&quot;</td><td>Int64</td><td>32434489</td><td>0</td><td>0.0</td><td>2</td><td>[0, 1]</td><td>-1.866989</td><td>-0.364706</td></tr></tbody></table></div>"
      ],
      "text/plain": [
       "shape: (4, 9)\n",
       "┌────────────┬────────────┬────────────┬───────┬───┬───────────┬───────────┬───────────┬───────────┐\n",
       "│ Columns    ┆ Data Type  ┆ Non-Null   ┆ Null  ┆ … ┆ Number of ┆ Sample    ┆ Kurtosis  ┆ Skewness  │\n",
       "│ ---        ┆ ---        ┆ count      ┆ count ┆   ┆ Unique    ┆ Unique    ┆ ---       ┆ ---       │\n",
       "│ str        ┆ object     ┆ ---        ┆ ---   ┆   ┆ Values    ┆ Values    ┆ f64       ┆ f64       │\n",
       "│            ┆            ┆ i64        ┆ i64   ┆   ┆ ---       ┆ ---       ┆           ┆           │\n",
       "│            ┆            ┆            ┆       ┆   ┆ i64       ┆ list[i64] ┆           ┆           │\n",
       "╞════════════╪════════════╪════════════╪═══════╪═══╪═══════════╪═══════════╪═══════════╪═══════════╡\n",
       "│ order_id   ┆ Int64      ┆ 32434489   ┆ 0     ┆ … ┆ 3214874   ┆ [2, 3, …  ┆ -1.199128 ┆ -0.00049  │\n",
       "│            ┆            ┆            ┆       ┆   ┆           ┆ 3421083]  ┆           ┆           │\n",
       "│ product_id ┆ Int64      ┆ 32434489   ┆ 0     ┆ … ┆ 49677     ┆ [1, 2, …  ┆ -1.140817 ┆ -0.021131 │\n",
       "│            ┆            ┆            ┆       ┆   ┆           ┆ 49688]    ┆           ┆           │\n",
       "│ add_to_car ┆ Int64      ┆ 32434489   ┆ 0     ┆ … ┆ 145       ┆ [1, 2, …  ┆ 5.643872  ┆ 1.818071  │\n",
       "│ t_order    ┆            ┆            ┆       ┆   ┆           ┆ 145]      ┆           ┆           │\n",
       "│ reordered  ┆ Int64      ┆ 32434489   ┆ 0     ┆ … ┆ 2         ┆ [0, 1]    ┆ -1.866989 ┆ -0.364706 │\n",
       "└────────────┴────────────┴────────────┴───────┴───┴───────────┴───────────┴───────────┴───────────┘"
      ]
     },
     "execution_count": 21,
     "metadata": {},
     "output_type": "execute_result"
    }
   ],
   "source": [
    "get_stats(order_prior_df)"
   ]
  },
  {
   "cell_type": "code",
   "execution_count": 22,
   "id": "af0fd3c0",
   "metadata": {},
   "outputs": [
    {
     "data": {
      "text/html": [
       "<div><style>\n",
       ".dataframe > thead > tr,\n",
       ".dataframe > tbody > tr {\n",
       "  text-align: right;\n",
       "  white-space: pre-wrap;\n",
       "}\n",
       "</style>\n",
       "<small>shape: (4, 9)</small><table border=\"1\" class=\"dataframe\"><thead><tr><th>Columns</th><th>Data Type</th><th>Non-Null count</th><th>Null count</th><th>Missing Percentage (%)</th><th>Number of Unique Values</th><th>Sample Unique Values</th><th>Kurtosis</th><th>Skewness</th></tr><tr><td>str</td><td>object</td><td>i64</td><td>i64</td><td>f64</td><td>i64</td><td>list[i64]</td><td>f64</td><td>f64</td></tr></thead><tbody><tr><td>&quot;order_id&quot;</td><td>Int64</td><td>1384617</td><td>0</td><td>0.0</td><td>131209</td><td>[1, 36, … 3421070]</td><td>-1.206626</td><td>0.006332</td></tr><tr><td>&quot;product_id&quot;</td><td>Int64</td><td>1384617</td><td>0</td><td>0.0</td><td>39123</td><td>[1, 2, … 49688]</td><td>-1.153795</td><td>-0.022355</td></tr><tr><td>&quot;add_to_cart_order&quot;</td><td>Int64</td><td>1384617</td><td>0</td><td>0.0</td><td>80</td><td>[1, 2, … 80]</td><td>4.172207</td><td>1.685547</td></tr><tr><td>&quot;reordered&quot;</td><td>Int64</td><td>1384617</td><td>0</td><td>0.0</td><td>2</td><td>[0, 1]</td><td>-1.838174</td><td>-0.402276</td></tr></tbody></table></div>"
      ],
      "text/plain": [
       "shape: (4, 9)\n",
       "┌────────────┬────────────┬────────────┬───────┬───┬───────────┬───────────┬───────────┬───────────┐\n",
       "│ Columns    ┆ Data Type  ┆ Non-Null   ┆ Null  ┆ … ┆ Number of ┆ Sample    ┆ Kurtosis  ┆ Skewness  │\n",
       "│ ---        ┆ ---        ┆ count      ┆ count ┆   ┆ Unique    ┆ Unique    ┆ ---       ┆ ---       │\n",
       "│ str        ┆ object     ┆ ---        ┆ ---   ┆   ┆ Values    ┆ Values    ┆ f64       ┆ f64       │\n",
       "│            ┆            ┆ i64        ┆ i64   ┆   ┆ ---       ┆ ---       ┆           ┆           │\n",
       "│            ┆            ┆            ┆       ┆   ┆ i64       ┆ list[i64] ┆           ┆           │\n",
       "╞════════════╪════════════╪════════════╪═══════╪═══╪═══════════╪═══════════╪═══════════╪═══════════╡\n",
       "│ order_id   ┆ Int64      ┆ 1384617    ┆ 0     ┆ … ┆ 131209    ┆ [1, 36, … ┆ -1.206626 ┆ 0.006332  │\n",
       "│            ┆            ┆            ┆       ┆   ┆           ┆ 3421070]  ┆           ┆           │\n",
       "│ product_id ┆ Int64      ┆ 1384617    ┆ 0     ┆ … ┆ 39123     ┆ [1, 2, …  ┆ -1.153795 ┆ -0.022355 │\n",
       "│            ┆            ┆            ┆       ┆   ┆           ┆ 49688]    ┆           ┆           │\n",
       "│ add_to_car ┆ Int64      ┆ 1384617    ┆ 0     ┆ … ┆ 80        ┆ [1, 2, …  ┆ 4.172207  ┆ 1.685547  │\n",
       "│ t_order    ┆            ┆            ┆       ┆   ┆           ┆ 80]       ┆           ┆           │\n",
       "│ reordered  ┆ Int64      ┆ 1384617    ┆ 0     ┆ … ┆ 2         ┆ [0, 1]    ┆ -1.838174 ┆ -0.402276 │\n",
       "└────────────┴────────────┴────────────┴───────┴───┴───────────┴───────────┴───────────┴───────────┘"
      ]
     },
     "execution_count": 22,
     "metadata": {},
     "output_type": "execute_result"
    }
   ],
   "source": [
    "get_stats(order_train_df)"
   ]
  },
  {
   "cell_type": "code",
   "execution_count": 23,
   "id": "8d25efed",
   "metadata": {},
   "outputs": [
    {
     "data": {
      "text/html": [
       "<div><style>\n",
       ".dataframe > thead > tr,\n",
       ".dataframe > tbody > tr {\n",
       "  text-align: right;\n",
       "  white-space: pre-wrap;\n",
       "}\n",
       "</style>\n",
       "<small>shape: (7, 9)</small><table border=\"1\" class=\"dataframe\"><thead><tr><th>Columns</th><th>Data Type</th><th>Non-Null count</th><th>Null count</th><th>Missing Percentage (%)</th><th>Number of Unique Values</th><th>Sample Unique Values</th><th>Kurtosis</th><th>Skewness</th></tr><tr><td>str</td><td>object</td><td>i64</td><td>i64</td><td>f64</td><td>i64</td><td>list[f64]</td><td>f64</td><td>f64</td></tr></thead><tbody><tr><td>&quot;order_id&quot;</td><td>Int64</td><td>3421083</td><td>0</td><td>0.0</td><td>3421083</td><td>[1.0, 2.0, … 3.421083e6]</td><td>-1.2</td><td>0.0</td></tr><tr><td>&quot;user_id&quot;</td><td>Int64</td><td>3421083</td><td>0</td><td>0.0</td><td>206209</td><td>[1.0, 2.0, … 206209.0]</td><td>-1.199822</td><td>0.006328</td></tr><tr><td>&quot;eval_set&quot;</td><td>Int32</td><td>3421083</td><td>0</td><td>0.0</td><td>3</td><td>[0.0, 1.0, 2.0]</td><td>null</td><td>null</td></tr><tr><td>&quot;order_number&quot;</td><td>Int64</td><td>3421083</td><td>0</td><td>0.0</td><td>100</td><td>[1.0, 2.0, … 100.0]</td><td>3.464986</td><td>1.812532</td></tr><tr><td>&quot;order_dow&quot;</td><td>Int64</td><td>3421083</td><td>0</td><td>0.0</td><td>7</td><td>[0.0, 1.0, … 6.0]</td><td>-1.297523</td><td>0.151306</td></tr><tr><td>&quot;order_hour_of_day&quot;</td><td>Int64</td><td>3421083</td><td>0</td><td>0.0</td><td>24</td><td>[0.0, 1.0, … 23.0]</td><td>-0.00996</td><td>-0.077688</td></tr><tr><td>&quot;days_since_prior_order&quot;</td><td>Float64</td><td>3214874</td><td>206209</td><td>6.027594</td><td>32</td><td>[null, 0.0, … 30.0]</td><td>null</td><td>null</td></tr></tbody></table></div>"
      ],
      "text/plain": [
       "shape: (7, 9)\n",
       "┌───────────┬───────────┬───────────┬───────────┬───┬───────────┬───────────┬───────────┬──────────┐\n",
       "│ Columns   ┆ Data Type ┆ Non-Null  ┆ Null      ┆ … ┆ Number of ┆ Sample    ┆ Kurtosis  ┆ Skewness │\n",
       "│ ---       ┆ ---       ┆ count     ┆ count     ┆   ┆ Unique    ┆ Unique    ┆ ---       ┆ ---      │\n",
       "│ str       ┆ object    ┆ ---       ┆ ---       ┆   ┆ Values    ┆ Values    ┆ f64       ┆ f64      │\n",
       "│           ┆           ┆ i64       ┆ i64       ┆   ┆ ---       ┆ ---       ┆           ┆          │\n",
       "│           ┆           ┆           ┆           ┆   ┆ i64       ┆ list[f64] ┆           ┆          │\n",
       "╞═══════════╪═══════════╪═══════════╪═══════════╪═══╪═══════════╪═══════════╪═══════════╪══════════╡\n",
       "│ order_id  ┆ Int64     ┆ 3421083   ┆ 0         ┆ … ┆ 3421083   ┆ [1.0,     ┆ -1.2      ┆ 0.0      │\n",
       "│           ┆           ┆           ┆           ┆   ┆           ┆ 2.0, …    ┆           ┆          │\n",
       "│           ┆           ┆           ┆           ┆   ┆           ┆ 3.421083e ┆           ┆          │\n",
       "│           ┆           ┆           ┆           ┆   ┆           ┆ 6]        ┆           ┆          │\n",
       "│ user_id   ┆ Int64     ┆ 3421083   ┆ 0         ┆ … ┆ 206209    ┆ [1.0,     ┆ -1.199822 ┆ 0.006328 │\n",
       "│           ┆           ┆           ┆           ┆   ┆           ┆ 2.0, …    ┆           ┆          │\n",
       "│           ┆           ┆           ┆           ┆   ┆           ┆ 206209.0] ┆           ┆          │\n",
       "│ eval_set  ┆ Int32     ┆ 3421083   ┆ 0         ┆ … ┆ 3         ┆ [0.0,     ┆ null      ┆ null     │\n",
       "│           ┆           ┆           ┆           ┆   ┆           ┆ 1.0, 2.0] ┆           ┆          │\n",
       "│ order_num ┆ Int64     ┆ 3421083   ┆ 0         ┆ … ┆ 100       ┆ [1.0,     ┆ 3.464986  ┆ 1.812532 │\n",
       "│ ber       ┆           ┆           ┆           ┆   ┆           ┆ 2.0, …    ┆           ┆          │\n",
       "│           ┆           ┆           ┆           ┆   ┆           ┆ 100.0]    ┆           ┆          │\n",
       "│ order_dow ┆ Int64     ┆ 3421083   ┆ 0         ┆ … ┆ 7         ┆ [0.0,     ┆ -1.297523 ┆ 0.151306 │\n",
       "│           ┆           ┆           ┆           ┆   ┆           ┆ 1.0, …    ┆           ┆          │\n",
       "│           ┆           ┆           ┆           ┆   ┆           ┆ 6.0]      ┆           ┆          │\n",
       "│ order_hou ┆ Int64     ┆ 3421083   ┆ 0         ┆ … ┆ 24        ┆ [0.0,     ┆ -0.00996  ┆ -0.07768 │\n",
       "│ r_of_day  ┆           ┆           ┆           ┆   ┆           ┆ 1.0, …    ┆           ┆ 8        │\n",
       "│           ┆           ┆           ┆           ┆   ┆           ┆ 23.0]     ┆           ┆          │\n",
       "│ days_sinc ┆ Float64   ┆ 3214874   ┆ 206209    ┆ … ┆ 32        ┆ [null,    ┆ null      ┆ null     │\n",
       "│ e_prior_o ┆           ┆           ┆           ┆   ┆           ┆ 0.0, …    ┆           ┆          │\n",
       "│ rder      ┆           ┆           ┆           ┆   ┆           ┆ 30.0]     ┆           ┆          │\n",
       "└───────────┴───────────┴───────────┴───────────┴───┴───────────┴───────────┴───────────┴──────────┘"
      ]
     },
     "execution_count": 23,
     "metadata": {},
     "output_type": "execute_result"
    }
   ],
   "source": [
    "order_stats = get_stats(orders_df)\n",
    "order_stats"
   ]
  },
  {
   "cell_type": "code",
   "execution_count": 24,
   "id": "056cec91",
   "metadata": {},
   "outputs": [
    {
     "data": {
      "text/html": [
       "<div><style>\n",
       ".dataframe > thead > tr,\n",
       ".dataframe > tbody > tr {\n",
       "  text-align: right;\n",
       "  white-space: pre-wrap;\n",
       "}\n",
       "</style>\n",
       "<small>shape: (4, 9)</small><table border=\"1\" class=\"dataframe\"><thead><tr><th>Columns</th><th>Data Type</th><th>Non-Null count</th><th>Null count</th><th>Missing Percentage (%)</th><th>Number of Unique Values</th><th>Sample Unique Values</th><th>Kurtosis</th><th>Skewness</th></tr><tr><td>str</td><td>object</td><td>i64</td><td>i64</td><td>f64</td><td>i64</td><td>list[str]</td><td>f64</td><td>f64</td></tr></thead><tbody><tr><td>&quot;product_id&quot;</td><td>Int64</td><td>49688</td><td>0</td><td>0.0</td><td>49688</td><td>[&quot;1&quot;, &quot;2&quot;, … &quot;49688&quot;]</td><td>-1.2</td><td>0.0</td></tr><tr><td>&quot;product_name&quot;</td><td>String</td><td>49688</td><td>0</td><td>0.0</td><td>49688</td><td>[&quot;Butter &amp; Garlic Angel Hair Pasta&quot;, &quot;Sonic Care Simply Clean Standard Size Brush Heads&quot;, … &quot;Original Hard Lemonade&quot;]</td><td>null</td><td>null</td></tr><tr><td>&quot;aisle_id&quot;</td><td>Int64</td><td>49688</td><td>0</td><td>0.0</td><td>134</td><td>[&quot;1&quot;, &quot;2&quot;, … &quot;134&quot;]</td><td>-1.249008</td><td>-0.066271</td></tr><tr><td>&quot;department_id&quot;</td><td>Int64</td><td>49688</td><td>0</td><td>0.0</td><td>21</td><td>[&quot;1&quot;, &quot;2&quot;, … &quot;21&quot;]</td><td>-0.987402</td><td>-0.309843</td></tr></tbody></table></div>"
      ],
      "text/plain": [
       "shape: (4, 9)\n",
       "┌────────────┬────────────┬────────────┬───────┬───┬───────────┬───────────┬───────────┬───────────┐\n",
       "│ Columns    ┆ Data Type  ┆ Non-Null   ┆ Null  ┆ … ┆ Number of ┆ Sample    ┆ Kurtosis  ┆ Skewness  │\n",
       "│ ---        ┆ ---        ┆ count      ┆ count ┆   ┆ Unique    ┆ Unique    ┆ ---       ┆ ---       │\n",
       "│ str        ┆ object     ┆ ---        ┆ ---   ┆   ┆ Values    ┆ Values    ┆ f64       ┆ f64       │\n",
       "│            ┆            ┆ i64        ┆ i64   ┆   ┆ ---       ┆ ---       ┆           ┆           │\n",
       "│            ┆            ┆            ┆       ┆   ┆ i64       ┆ list[str] ┆           ┆           │\n",
       "╞════════════╪════════════╪════════════╪═══════╪═══╪═══════════╪═══════════╪═══════════╪═══════════╡\n",
       "│ product_id ┆ Int64      ┆ 49688      ┆ 0     ┆ … ┆ 49688     ┆ [\"1\",     ┆ -1.2      ┆ 0.0       │\n",
       "│            ┆            ┆            ┆       ┆   ┆           ┆ \"2\", …    ┆           ┆           │\n",
       "│            ┆            ┆            ┆       ┆   ┆           ┆ \"49688\"]  ┆           ┆           │\n",
       "│ product_na ┆ String     ┆ 49688      ┆ 0     ┆ … ┆ 49688     ┆ [\"Butter  ┆ null      ┆ null      │\n",
       "│ me         ┆            ┆            ┆       ┆   ┆           ┆ & Garlic  ┆           ┆           │\n",
       "│            ┆            ┆            ┆       ┆   ┆           ┆ Angel     ┆           ┆           │\n",
       "│            ┆            ┆            ┆       ┆   ┆           ┆ Hair P…   ┆           ┆           │\n",
       "│ aisle_id   ┆ Int64      ┆ 49688      ┆ 0     ┆ … ┆ 134       ┆ [\"1\",     ┆ -1.249008 ┆ -0.066271 │\n",
       "│            ┆            ┆            ┆       ┆   ┆           ┆ \"2\", …    ┆           ┆           │\n",
       "│            ┆            ┆            ┆       ┆   ┆           ┆ \"134\"]    ┆           ┆           │\n",
       "│ department ┆ Int64      ┆ 49688      ┆ 0     ┆ … ┆ 21        ┆ [\"1\",     ┆ -0.987402 ┆ -0.309843 │\n",
       "│ _id        ┆            ┆            ┆       ┆   ┆           ┆ \"2\", …    ┆           ┆           │\n",
       "│            ┆            ┆            ┆       ┆   ┆           ┆ \"21\"]     ┆           ┆           │\n",
       "└────────────┴────────────┴────────────┴───────┴───┴───────────┴───────────┴───────────┴───────────┘"
      ]
     },
     "execution_count": 24,
     "metadata": {},
     "output_type": "execute_result"
    }
   ],
   "source": [
    "get_stats(products_df)"
   ]
  },
  {
   "cell_type": "code",
   "execution_count": 25,
   "id": "8832171d",
   "metadata": {},
   "outputs": [
    {
     "name": "stdout",
     "output_type": "stream",
     "text": [
      "The Shape of the aisles data: (134, 2)\n",
      "The Shape of the orders data: (3421083, 7)\n",
      "The Shape of the departments data: (21, 2)\n",
      "The Shape of the products data: (49688, 4)\n",
      "The Shape of the order products prior data: (32434489, 4)\n",
      "The Shape of the order products train data: (1384617, 4)\n"
     ]
    }
   ],
   "source": [
    "print(f\"The Shape of the aisles data: {aisles_df.shape}\")\n",
    "print(f\"The Shape of the orders data: {orders_df.shape}\")\n",
    "print(f\"The Shape of the departments data: {departments_df.shape}\")\n",
    "print(f\"The Shape of the products data: {products_df.shape}\")\n",
    "print(f\"The Shape of the order products prior data: {order_prior_df.shape}\")\n",
    "print(f\"The Shape of the order products train data: {order_train_df.shape}\")"
   ]
  },
  {
   "cell_type": "markdown",
   "id": "906c31ed",
   "metadata": {},
   "source": [
    "The data seems good except for one column with missing values in the `orders` dataframe. The column of concern is the `days_since_prior_order`. I want to further analayse all the unique values present in the that column and fill the missing data with something else."
   ]
  },
  {
   "cell_type": "code",
   "execution_count": 26,
   "id": "2ead7803",
   "metadata": {},
   "outputs": [
    {
     "data": {
      "text/plain": [
       "[[None,\n",
       "  0.0,\n",
       "  1.0,\n",
       "  2.0,\n",
       "  3.0,\n",
       "  4.0,\n",
       "  5.0,\n",
       "  6.0,\n",
       "  7.0,\n",
       "  8.0,\n",
       "  9.0,\n",
       "  10.0,\n",
       "  11.0,\n",
       "  12.0,\n",
       "  13.0,\n",
       "  14.0,\n",
       "  15.0,\n",
       "  16.0,\n",
       "  17.0,\n",
       "  18.0,\n",
       "  19.0,\n",
       "  20.0,\n",
       "  21.0,\n",
       "  22.0,\n",
       "  23.0,\n",
       "  24.0,\n",
       "  25.0,\n",
       "  26.0,\n",
       "  27.0,\n",
       "  28.0,\n",
       "  29.0,\n",
       "  30.0]]"
      ]
     },
     "execution_count": 26,
     "metadata": {},
     "output_type": "execute_result"
    }
   ],
   "source": [
    "order_stats.filter(pl.col(\"Columns\") == \"days_since_prior_order\")[\"Sample Unique Values\"].to_list()"
   ]
  },
  {
   "cell_type": "code",
   "execution_count": 27,
   "id": "73ad6b24",
   "metadata": {},
   "outputs": [],
   "source": [
    "# filling the missing data with -1 since that would not happen anyway\n",
    "\n",
    "orders_df = orders_df.with_columns(\n",
    "  pl.col(\"days_since_prior_order\").fill_null(strategy=\"zero\"))"
   ]
  },
  {
   "cell_type": "code",
   "execution_count": 28,
   "id": "09a2a70b",
   "metadata": {},
   "outputs": [
    {
     "data": {
      "text/html": [
       "<div><style>\n",
       ".dataframe > thead > tr,\n",
       ".dataframe > tbody > tr {\n",
       "  text-align: right;\n",
       "  white-space: pre-wrap;\n",
       "}\n",
       "</style>\n",
       "<small>shape: (9, 3)</small><table border=\"1\" class=\"dataframe\"><thead><tr><th>statistic</th><th>order_hour_of_day</th><th>days_since_prior_order</th></tr><tr><td>str</td><td>f64</td><td>f64</td></tr></thead><tbody><tr><td>&quot;count&quot;</td><td>3.421083e6</td><td>3.421083e6</td></tr><tr><td>&quot;null_count&quot;</td><td>0.0</td><td>0.0</td></tr><tr><td>&quot;mean&quot;</td><td>13.452015</td><td>10.444879</td></tr><tr><td>&quot;std&quot;</td><td>4.226088</td><td>9.308727</td></tr><tr><td>&quot;min&quot;</td><td>0.0</td><td>0.0</td></tr><tr><td>&quot;25%&quot;</td><td>10.0</td><td>4.0</td></tr><tr><td>&quot;50%&quot;</td><td>13.0</td><td>7.0</td></tr><tr><td>&quot;75%&quot;</td><td>16.0</td><td>15.0</td></tr><tr><td>&quot;max&quot;</td><td>23.0</td><td>30.0</td></tr></tbody></table></div>"
      ],
      "text/plain": [
       "shape: (9, 3)\n",
       "┌────────────┬───────────────────┬────────────────────────┐\n",
       "│ statistic  ┆ order_hour_of_day ┆ days_since_prior_order │\n",
       "│ ---        ┆ ---               ┆ ---                    │\n",
       "│ str        ┆ f64               ┆ f64                    │\n",
       "╞════════════╪═══════════════════╪════════════════════════╡\n",
       "│ count      ┆ 3.421083e6        ┆ 3.421083e6             │\n",
       "│ null_count ┆ 0.0               ┆ 0.0                    │\n",
       "│ mean       ┆ 13.452015         ┆ 10.444879              │\n",
       "│ std        ┆ 4.226088          ┆ 9.308727               │\n",
       "│ min        ┆ 0.0               ┆ 0.0                    │\n",
       "│ 25%        ┆ 10.0              ┆ 4.0                    │\n",
       "│ 50%        ┆ 13.0              ┆ 7.0                    │\n",
       "│ 75%        ┆ 16.0              ┆ 15.0                   │\n",
       "│ max        ┆ 23.0              ┆ 30.0                   │\n",
       "└────────────┴───────────────────┴────────────────────────┘"
      ]
     },
     "execution_count": 28,
     "metadata": {},
     "output_type": "execute_result"
    }
   ],
   "source": [
    "# summary statistics\n",
    "\n",
    "orders_df[['order_hour_of_day','days_since_prior_order']].describe()"
   ]
  },
  {
   "cell_type": "code",
   "execution_count": 29,
   "id": "cbc66979",
   "metadata": {},
   "outputs": [
    {
     "data": {
      "text/html": [
       "<div><style>\n",
       ".dataframe > thead > tr,\n",
       ".dataframe > tbody > tr {\n",
       "  text-align: right;\n",
       "  white-space: pre-wrap;\n",
       "}\n",
       "</style>\n",
       "<small>shape: (21, 2)</small><table border=\"1\" class=\"dataframe\"><thead><tr><th>department</th><th>count</th></tr><tr><td>str</td><td>u32</td></tr></thead><tbody><tr><td>&quot;personal care&quot;</td><td>6563</td></tr><tr><td>&quot;snacks&quot;</td><td>6264</td></tr><tr><td>&quot;pantry&quot;</td><td>5371</td></tr><tr><td>&quot;beverages&quot;</td><td>4365</td></tr><tr><td>&quot;frozen&quot;</td><td>4007</td></tr><tr><td>&hellip;</td><td>&hellip;</td></tr><tr><td>&quot;alcohol&quot;</td><td>1054</td></tr><tr><td>&quot;pets&quot;</td><td>972</td></tr><tr><td>&quot;meat seafood&quot;</td><td>907</td></tr><tr><td>&quot;other&quot;</td><td>548</td></tr><tr><td>&quot;bulk&quot;</td><td>38</td></tr></tbody></table></div>"
      ],
      "text/plain": [
       "shape: (21, 2)\n",
       "┌───────────────┬───────┐\n",
       "│ department    ┆ count │\n",
       "│ ---           ┆ ---   │\n",
       "│ str           ┆ u32   │\n",
       "╞═══════════════╪═══════╡\n",
       "│ personal care ┆ 6563  │\n",
       "│ snacks        ┆ 6264  │\n",
       "│ pantry        ┆ 5371  │\n",
       "│ beverages     ┆ 4365  │\n",
       "│ frozen        ┆ 4007  │\n",
       "│ …             ┆ …     │\n",
       "│ alcohol       ┆ 1054  │\n",
       "│ pets          ┆ 972   │\n",
       "│ meat seafood  ┆ 907   │\n",
       "│ other         ┆ 548   │\n",
       "│ bulk          ┆ 38    │\n",
       "└───────────────┴───────┘"
      ]
     },
     "execution_count": 29,
     "metadata": {},
     "output_type": "execute_result"
    }
   ],
   "source": [
    "# Need to get the number of products in a certain department\n",
    "\n",
    "products_df[\"department_id\"].value_counts().join(departments_df, on = \"department_id\").select(\n",
    "  [\"department\", \"count\"]\n",
    ").sort(\"count\", descending=True)"
   ]
  },
  {
   "cell_type": "markdown",
   "id": "ef619891",
   "metadata": {},
   "source": [
    "### Customer Behaviour"
   ]
  },
  {
   "cell_type": "code",
   "execution_count": 30,
   "id": "425befc5",
   "metadata": {},
   "outputs": [],
   "source": [
    "avg_num_orders = orders_df.group_by(\"user_id\").n_unique().mean()[\"order_id\"]"
   ]
  },
  {
   "cell_type": "code",
   "execution_count": 31,
   "id": "34c9039a",
   "metadata": {},
   "outputs": [
    {
     "data": {
      "text/html": [
       "<div><style>\n",
       ".dataframe > thead > tr,\n",
       ".dataframe > tbody > tr {\n",
       "  text-align: right;\n",
       "  white-space: pre-wrap;\n",
       "}\n",
       "</style>\n",
       "<small>shape: (1,)</small><table border=\"1\" class=\"dataframe\"><thead><tr><th>order_id</th></tr><tr><td>f64</td></tr></thead><tbody><tr><td>16.590367</td></tr></tbody></table></div>"
      ],
      "text/plain": [
       "shape: (1,)\n",
       "Series: 'order_id' [f64]\n",
       "[\n",
       "\t16.590367\n",
       "]"
      ]
     },
     "execution_count": 31,
     "metadata": {},
     "output_type": "execute_result"
    }
   ],
   "source": [
    "avg_num_orders"
   ]
  },
  {
   "cell_type": "code",
   "execution_count": 32,
   "id": "af76843d",
   "metadata": {},
   "outputs": [
    {
     "name": "stdout",
     "output_type": "stream",
     "text": [
      "Average number of orders per user is :  16.590367054784224\n"
     ]
    }
   ],
   "source": [
    "print(\"Average number of orders per user is : \",avg_num_orders[0])"
   ]
  },
  {
   "cell_type": "code",
   "execution_count": 33,
   "id": "a79385f3",
   "metadata": {},
   "outputs": [
    {
     "data": {
      "text/html": [
       "<div><style>\n",
       ".dataframe > thead > tr,\n",
       ".dataframe > tbody > tr {\n",
       "  text-align: right;\n",
       "  white-space: pre-wrap;\n",
       "}\n",
       "</style>\n",
       "<small>shape: (3_421_083, 7)</small><table border=\"1\" class=\"dataframe\"><thead><tr><th>order_id</th><th>user_id</th><th>eval_set</th><th>order_number</th><th>order_dow</th><th>order_hour_of_day</th><th>days_since_prior_order</th></tr><tr><td>i64</td><td>i64</td><td>i32</td><td>i64</td><td>i64</td><td>i64</td><td>f64</td></tr></thead><tbody><tr><td>2539329</td><td>1</td><td>0</td><td>1</td><td>2</td><td>8</td><td>0.0</td></tr><tr><td>2398795</td><td>1</td><td>0</td><td>2</td><td>3</td><td>7</td><td>15.0</td></tr><tr><td>473747</td><td>1</td><td>0</td><td>3</td><td>3</td><td>12</td><td>21.0</td></tr><tr><td>2254736</td><td>1</td><td>0</td><td>4</td><td>4</td><td>7</td><td>29.0</td></tr><tr><td>431534</td><td>1</td><td>0</td><td>5</td><td>4</td><td>15</td><td>28.0</td></tr><tr><td>&hellip;</td><td>&hellip;</td><td>&hellip;</td><td>&hellip;</td><td>&hellip;</td><td>&hellip;</td><td>&hellip;</td></tr><tr><td>2266710</td><td>206209</td><td>0</td><td>10</td><td>5</td><td>18</td><td>29.0</td></tr><tr><td>1854736</td><td>206209</td><td>0</td><td>11</td><td>4</td><td>10</td><td>30.0</td></tr><tr><td>626363</td><td>206209</td><td>0</td><td>12</td><td>1</td><td>12</td><td>18.0</td></tr><tr><td>2977660</td><td>206209</td><td>0</td><td>13</td><td>1</td><td>12</td><td>7.0</td></tr><tr><td>272231</td><td>206209</td><td>1</td><td>14</td><td>6</td><td>14</td><td>30.0</td></tr></tbody></table></div>"
      ],
      "text/plain": [
       "shape: (3_421_083, 7)\n",
       "┌──────────┬─────────┬──────────┬──────────────┬───────────┬───────────────────┬───────────────────┐\n",
       "│ order_id ┆ user_id ┆ eval_set ┆ order_number ┆ order_dow ┆ order_hour_of_day ┆ days_since_prior_ │\n",
       "│ ---      ┆ ---     ┆ ---      ┆ ---          ┆ ---       ┆ ---               ┆ order             │\n",
       "│ i64      ┆ i64     ┆ i32      ┆ i64          ┆ i64       ┆ i64               ┆ ---               │\n",
       "│          ┆         ┆          ┆              ┆           ┆                   ┆ f64               │\n",
       "╞══════════╪═════════╪══════════╪══════════════╪═══════════╪═══════════════════╪═══════════════════╡\n",
       "│ 2539329  ┆ 1       ┆ 0        ┆ 1            ┆ 2         ┆ 8                 ┆ 0.0               │\n",
       "│ 2398795  ┆ 1       ┆ 0        ┆ 2            ┆ 3         ┆ 7                 ┆ 15.0              │\n",
       "│ 473747   ┆ 1       ┆ 0        ┆ 3            ┆ 3         ┆ 12                ┆ 21.0              │\n",
       "│ 2254736  ┆ 1       ┆ 0        ┆ 4            ┆ 4         ┆ 7                 ┆ 29.0              │\n",
       "│ 431534   ┆ 1       ┆ 0        ┆ 5            ┆ 4         ┆ 15                ┆ 28.0              │\n",
       "│ …        ┆ …       ┆ …        ┆ …            ┆ …         ┆ …                 ┆ …                 │\n",
       "│ 2266710  ┆ 206209  ┆ 0        ┆ 10           ┆ 5         ┆ 18                ┆ 29.0              │\n",
       "│ 1854736  ┆ 206209  ┆ 0        ┆ 11           ┆ 4         ┆ 10                ┆ 30.0              │\n",
       "│ 626363   ┆ 206209  ┆ 0        ┆ 12           ┆ 1         ┆ 12                ┆ 18.0              │\n",
       "│ 2977660  ┆ 206209  ┆ 0        ┆ 13           ┆ 1         ┆ 12                ┆ 7.0               │\n",
       "│ 272231   ┆ 206209  ┆ 1        ┆ 14           ┆ 6         ┆ 14                ┆ 30.0              │\n",
       "└──────────┴─────────┴──────────┴──────────────┴───────────┴───────────────────┴───────────────────┘"
      ]
     },
     "execution_count": 33,
     "metadata": {},
     "output_type": "execute_result"
    }
   ],
   "source": [
    "# Average time between the orders for each user\n",
    "\n",
    "orders_without_first_time_df = orders_df.filter(pl.col(\"days_since_prior_order\") != -1)\n",
    "\n",
    "orders_without_first_time_df"
   ]
  },
  {
   "cell_type": "code",
   "execution_count": 34,
   "id": "f4cd1f8f",
   "metadata": {},
   "outputs": [
    {
     "name": "stdout",
     "output_type": "stream",
     "text": [
      "The average time between orders per user: \n"
     ]
    },
    {
     "data": {
      "text/html": [
       "<div><style>\n",
       ".dataframe > thead > tr,\n",
       ".dataframe > tbody > tr {\n",
       "  text-align: right;\n",
       "  white-space: pre-wrap;\n",
       "}\n",
       "</style>\n",
       "<small>shape: (206_209, 2)</small><table border=\"1\" class=\"dataframe\"><thead><tr><th>user_id</th><th>days_since_prior_order</th></tr><tr><td>i64</td><td>f64</td></tr></thead><tbody><tr><td>1</td><td>17.272727</td></tr><tr><td>2</td><td>15.2</td></tr><tr><td>3</td><td>11.076923</td></tr><tr><td>4</td><td>14.166667</td></tr><tr><td>5</td><td>9.2</td></tr><tr><td>&hellip;</td><td>&hellip;</td></tr><tr><td>206205</td><td>12.5</td></tr><tr><td>206206</td><td>3.661765</td></tr><tr><td>206207</td><td>13.470588</td></tr><tr><td>206208</td><td>7.22</td></tr><tr><td>206209</td><td>17.142857</td></tr></tbody></table></div>"
      ],
      "text/plain": [
       "shape: (206_209, 2)\n",
       "┌─────────┬────────────────────────┐\n",
       "│ user_id ┆ days_since_prior_order │\n",
       "│ ---     ┆ ---                    │\n",
       "│ i64     ┆ f64                    │\n",
       "╞═════════╪════════════════════════╡\n",
       "│ 1       ┆ 17.272727              │\n",
       "│ 2       ┆ 15.2                   │\n",
       "│ 3       ┆ 11.076923              │\n",
       "│ 4       ┆ 14.166667              │\n",
       "│ 5       ┆ 9.2                    │\n",
       "│ …       ┆ …                      │\n",
       "│ 206205  ┆ 12.5                   │\n",
       "│ 206206  ┆ 3.661765               │\n",
       "│ 206207  ┆ 13.470588              │\n",
       "│ 206208  ┆ 7.22                   │\n",
       "│ 206209  ┆ 17.142857              │\n",
       "└─────────┴────────────────────────┘"
      ]
     },
     "execution_count": 34,
     "metadata": {},
     "output_type": "execute_result"
    }
   ],
   "source": [
    "print(\"The average time between orders per user: \") \n",
    "orders_without_first_time_df.group_by('user_id').mean()[\"user_id\", \"days_since_prior_order\"].sort(\"user_id\", descending=False)"
   ]
  },
  {
   "cell_type": "code",
   "execution_count": 35,
   "id": "98d100f6",
   "metadata": {},
   "outputs": [
    {
     "name": "stdout",
     "output_type": "stream",
     "text": [
      "The average time between orders for all users:  13.428599535803405\n"
     ]
    }
   ],
   "source": [
    "print(\"The average time between orders for all users: \",orders_without_first_time_df.group_by('user_id').mean().mean()['days_since_prior_order'][0]) "
   ]
  },
  {
   "cell_type": "markdown",
   "id": "23e33ad8",
   "metadata": {},
   "source": [
    "## Feature Engineering\n",
    "\n",
    "Feature Engineering is key in creating new features by deriving insights from the existing data and combine everything."
   ]
  },
  {
   "cell_type": "code",
   "execution_count": 36,
   "id": "442feb71",
   "metadata": {},
   "outputs": [],
   "source": [
    "prior_orders = orders_df.join(order_prior_df, on=\"order_id\", how=\"inner\")"
   ]
  },
  {
   "cell_type": "code",
   "execution_count": 37,
   "id": "248b4bea",
   "metadata": {},
   "outputs": [
    {
     "data": {
      "text/html": [
       "<div><style>\n",
       ".dataframe > thead > tr,\n",
       ".dataframe > tbody > tr {\n",
       "  text-align: right;\n",
       "  white-space: pre-wrap;\n",
       "}\n",
       "</style>\n",
       "<small>shape: (5, 10)</small><table border=\"1\" class=\"dataframe\"><thead><tr><th>order_id</th><th>user_id</th><th>eval_set</th><th>order_number</th><th>order_dow</th><th>order_hour_of_day</th><th>days_since_prior_order</th><th>product_id</th><th>add_to_cart_order</th><th>reordered</th></tr><tr><td>i64</td><td>i64</td><td>i32</td><td>i64</td><td>i64</td><td>i64</td><td>f64</td><td>i64</td><td>i64</td><td>i64</td></tr></thead><tbody><tr><td>2</td><td>202279</td><td>0</td><td>3</td><td>5</td><td>9</td><td>8.0</td><td>33120</td><td>1</td><td>1</td></tr><tr><td>2</td><td>202279</td><td>0</td><td>3</td><td>5</td><td>9</td><td>8.0</td><td>28985</td><td>2</td><td>1</td></tr><tr><td>2</td><td>202279</td><td>0</td><td>3</td><td>5</td><td>9</td><td>8.0</td><td>9327</td><td>3</td><td>0</td></tr><tr><td>2</td><td>202279</td><td>0</td><td>3</td><td>5</td><td>9</td><td>8.0</td><td>45918</td><td>4</td><td>1</td></tr><tr><td>2</td><td>202279</td><td>0</td><td>3</td><td>5</td><td>9</td><td>8.0</td><td>30035</td><td>5</td><td>0</td></tr></tbody></table></div>"
      ],
      "text/plain": [
       "shape: (5, 10)\n",
       "┌──────────┬─────────┬──────────┬────────────┬───┬────────────┬────────────┬───────────┬───────────┐\n",
       "│ order_id ┆ user_id ┆ eval_set ┆ order_numb ┆ … ┆ days_since ┆ product_id ┆ add_to_ca ┆ reordered │\n",
       "│ ---      ┆ ---     ┆ ---      ┆ er         ┆   ┆ _prior_ord ┆ ---        ┆ rt_order  ┆ ---       │\n",
       "│ i64      ┆ i64     ┆ i32      ┆ ---        ┆   ┆ er         ┆ i64        ┆ ---       ┆ i64       │\n",
       "│          ┆         ┆          ┆ i64        ┆   ┆ ---        ┆            ┆ i64       ┆           │\n",
       "│          ┆         ┆          ┆            ┆   ┆ f64        ┆            ┆           ┆           │\n",
       "╞══════════╪═════════╪══════════╪════════════╪═══╪════════════╪════════════╪═══════════╪═══════════╡\n",
       "│ 2        ┆ 202279  ┆ 0        ┆ 3          ┆ … ┆ 8.0        ┆ 33120      ┆ 1         ┆ 1         │\n",
       "│ 2        ┆ 202279  ┆ 0        ┆ 3          ┆ … ┆ 8.0        ┆ 28985      ┆ 2         ┆ 1         │\n",
       "│ 2        ┆ 202279  ┆ 0        ┆ 3          ┆ … ┆ 8.0        ┆ 9327       ┆ 3         ┆ 0         │\n",
       "│ 2        ┆ 202279  ┆ 0        ┆ 3          ┆ … ┆ 8.0        ┆ 45918      ┆ 4         ┆ 1         │\n",
       "│ 2        ┆ 202279  ┆ 0        ┆ 3          ┆ … ┆ 8.0        ┆ 30035      ┆ 5         ┆ 0         │\n",
       "└──────────┴─────────┴──────────┴────────────┴───┴────────────┴────────────┴───────────┴───────────┘"
      ]
     },
     "execution_count": 37,
     "metadata": {},
     "output_type": "execute_result"
    }
   ],
   "source": [
    "prior_orders.head()"
   ]
  },
  {
   "cell_type": "markdown",
   "id": "fa779861",
   "metadata": {},
   "source": [
    "### Creating Features using user_id"
   ]
  },
  {
   "cell_type": "code",
   "execution_count": 38,
   "id": "44f5ae45",
   "metadata": {},
   "outputs": [],
   "source": [
    "# Total Number of order placed by each users. Maximum of the order_number column.\n",
    "\n",
    "users = prior_orders.group_by(\"user_id\") \\\n",
    "                    .agg(pl.col(\"order_number\").max().alias(\"u_num_of_orders\")) \\\n",
    "                    .sort(\"user_id\")"
   ]
  },
  {
   "cell_type": "code",
   "execution_count": 39,
   "id": "160f0f1f",
   "metadata": {},
   "outputs": [],
   "source": [
    "# Average number of products bought in each orders\n",
    "\n",
    "# Getting the total number of products in each order\n",
    "total_prd_per_order = prior_orders.group_by([\"user_id\", \"order_id\"]) \\\n",
    "                                 .agg(pl.col(\"product_id\").count().alias(\"total_products_per_order\")) \\\n",
    "                                 .sort(\"user_id\")\n",
    "\n",
    "\n",
    "# Getting the average products purchased by each user\n",
    "avg_products = total_prd_per_order.group_by(\"user_id\") \\\n",
    "                                  .agg(pl.col(\"total_products_per_order\").mean().alias(\"u_avg_prd\")) \\\n",
    "                                  .sort(\"user_id\")"
   ]
  },
  {
   "cell_type": "code",
   "execution_count": 40,
   "id": "3a961b8a",
   "metadata": {},
   "outputs": [
    {
     "name": "stderr",
     "output_type": "stream",
     "text": [
      "/var/folders/dt/nf7j33w51gj7cv6bx6633tm40000gn/T/ipykernel_73017/329777456.py:7: DeprecationWarning: `GroupBy.count` is deprecated. It has been renamed to `len`.\n",
      "  .count() \\\n"
     ]
    }
   ],
   "source": [
    "# Day of the week the users order the most\n",
    "\n",
    "from scipy import stats\n",
    "\n",
    "\n",
    "dow = prior_orders.group_by([\"user_id\", \"order_dow\"]) \\\n",
    "                  .count() \\\n",
    "                  .sort([\"user_id\", \"count\"], descending=True) \\\n",
    "                  .group_by(\"user_id\") \\\n",
    "                  .agg(pl.col(\"order_dow\").first().alias(\"dow_u_most_orders\")) \\\n",
    "                  .sort(\"user_id\")"
   ]
  },
  {
   "cell_type": "code",
   "execution_count": 41,
   "id": "5495ee70",
   "metadata": {},
   "outputs": [],
   "source": [
    "# Hour of the day the user has ordered most\n",
    "\n",
    "hod = (\n",
    "    prior_orders\n",
    "    .group_by(\"user_id\")\n",
    "    .agg(\n",
    "        pl.col(\"order_hour_of_day\").mode().first().alias(\"hod_u_most_orders\")\n",
    "    )\n",
    "    .sort(\"user_id\")\n",
    ")"
   ]
  },
  {
   "cell_type": "code",
   "execution_count": 42,
   "id": "5066018a",
   "metadata": {},
   "outputs": [],
   "source": [
    "# Reordered ratio of each user\n",
    "\n",
    "reorder_u = (\n",
    "  prior_orders\n",
    "  .group_by(\"user_id\")\n",
    "  .agg(pl.col(\"reordered\").mean().alias(\"u_reorder_ratio\"))\n",
    "  .sort(\"user_id\")\n",
    ")"
   ]
  },
  {
   "cell_type": "code",
   "execution_count": 43,
   "id": "3880defc",
   "metadata": {},
   "outputs": [],
   "source": [
    "# Average days since prior order\n",
    "\n",
    "avg_days  = (\n",
    "  prior_orders.group_by(\"user_id\")\n",
    "  .agg(pl.col(\"days_since_prior_order\").mean().alias(\"average_days_between_orders\"))\n",
    "  .sort(\"user_id\")\n",
    ")"
   ]
  },
  {
   "cell_type": "code",
   "execution_count": 44,
   "id": "4cad60d5",
   "metadata": {},
   "outputs": [],
   "source": [
    "# total items bought by the user\n",
    "\n",
    "total_item = (\n",
    "  prior_orders\n",
    "  .group_by(\"user_id\")\n",
    "  .agg(pl.len().alias(\"u_total_items_bought\"))\n",
    "  .with_columns(pl.col(\"u_total_items_bought\").cast(pl.Int64))\n",
    "  .sort(\"user_id\")\n",
    ")"
   ]
  },
  {
   "cell_type": "code",
   "execution_count": 45,
   "id": "3d7b905a",
   "metadata": {},
   "outputs": [],
   "source": [
    "# merging all the created features into the users dataset\n",
    "\n",
    "users = users.join(avg_products, on=\"user_id\", how=\"left\")\n",
    "\n",
    "users = users.join(dow, on=\"user_id\", how=\"left\")\n",
    "\n",
    "users = users.join(hod, on=\"user_id\", how=\"left\")\n",
    "\n",
    "users = users.join(reorder_u, on=\"user_id\", how=\"left\")\n",
    "\n",
    "users = users.join(avg_days, on=\"user_id\", how=\"left\")\n",
    "\n",
    "users = users.join(total_item, on=\"user_id\", how=\"left\")"
   ]
  },
  {
   "cell_type": "code",
   "execution_count": 46,
   "id": "38fb5561",
   "metadata": {},
   "outputs": [
    {
     "data": {
      "text/html": [
       "<div><style>\n",
       ".dataframe > thead > tr,\n",
       ".dataframe > tbody > tr {\n",
       "  text-align: right;\n",
       "  white-space: pre-wrap;\n",
       "}\n",
       "</style>\n",
       "<small>shape: (3, 8)</small><table border=\"1\" class=\"dataframe\"><thead><tr><th>user_id</th><th>u_num_of_orders</th><th>u_avg_prd</th><th>dow_u_most_orders</th><th>hod_u_most_orders</th><th>u_reorder_ratio</th><th>average_days_between_orders</th><th>u_total_items_bought</th></tr><tr><td>i64</td><td>i64</td><td>f64</td><td>i64</td><td>i64</td><td>f64</td><td>f64</td><td>i64</td></tr></thead><tbody><tr><td>1</td><td>10</td><td>5.9</td><td>4</td><td>7</td><td>0.694915</td><td>18.542373</td><td>59</td></tr><tr><td>2</td><td>14</td><td>13.928571</td><td>2</td><td>9</td><td>0.476923</td><td>14.902564</td><td>195</td></tr><tr><td>3</td><td>12</td><td>7.333333</td><td>0</td><td>16</td><td>0.625</td><td>10.181818</td><td>88</td></tr></tbody></table></div>"
      ],
      "text/plain": [
       "shape: (3, 8)\n",
       "┌─────────┬────────────┬───────────┬────────────┬────────────┬────────────┬────────────┬───────────┐\n",
       "│ user_id ┆ u_num_of_o ┆ u_avg_prd ┆ dow_u_most ┆ hod_u_most ┆ u_reorder_ ┆ average_da ┆ u_total_i │\n",
       "│ ---     ┆ rders      ┆ ---       ┆ _orders    ┆ _orders    ┆ ratio      ┆ ys_between ┆ tems_boug │\n",
       "│ i64     ┆ ---        ┆ f64       ┆ ---        ┆ ---        ┆ ---        ┆ _orders    ┆ ht        │\n",
       "│         ┆ i64        ┆           ┆ i64        ┆ i64        ┆ f64        ┆ ---        ┆ ---       │\n",
       "│         ┆            ┆           ┆            ┆            ┆            ┆ f64        ┆ i64       │\n",
       "╞═════════╪════════════╪═══════════╪════════════╪════════════╪════════════╪════════════╪═══════════╡\n",
       "│ 1       ┆ 10         ┆ 5.9       ┆ 4          ┆ 7          ┆ 0.694915   ┆ 18.542373  ┆ 59        │\n",
       "│ 2       ┆ 14         ┆ 13.928571 ┆ 2          ┆ 9          ┆ 0.476923   ┆ 14.902564  ┆ 195       │\n",
       "│ 3       ┆ 12         ┆ 7.333333  ┆ 0          ┆ 16         ┆ 0.625      ┆ 10.181818  ┆ 88        │\n",
       "└─────────┴────────────┴───────────┴────────────┴────────────┴────────────┴────────────┴───────────┘"
      ]
     },
     "execution_count": 46,
     "metadata": {},
     "output_type": "execute_result"
    }
   ],
   "source": [
    "users.head(3)"
   ]
  },
  {
   "cell_type": "markdown",
   "id": "f578f9a9",
   "metadata": {},
   "source": [
    "### Creating features using product_id"
   ]
  },
  {
   "cell_type": "code",
   "execution_count": 47,
   "id": "2e43a958",
   "metadata": {},
   "outputs": [],
   "source": [
    "# Number of times the product has been purchased by the users\n",
    "\n",
    "prd = (\n",
    "  prior_orders\n",
    "  .group_by(\"product_id\")\n",
    "  .agg(pl.len().alias(\"p_num_of_times\"))\n",
    "  .sort(\"product_id\")\n",
    ")"
   ]
  },
  {
   "cell_type": "code",
   "execution_count": 48,
   "id": "6ee9bd93",
   "metadata": {},
   "outputs": [],
   "source": [
    "# Reorder ratio of each products.\n",
    "# Number of times the product was reordered/number of times it was purchased\n",
    "\n",
    "reorder_p = (\n",
    "  prior_orders\n",
    "  .group_by(\"product_id\")\n",
    "  .agg(pl.col(\"reordered\").mean().alias(\"p_reorder_ratio\"))\n",
    "  .sort(\"product_id\")\n",
    ")"
   ]
  },
  {
   "cell_type": "code",
   "execution_count": 49,
   "id": "af6c2a9f",
   "metadata": {},
   "outputs": [],
   "source": [
    "# Average add to cart order for each product\n",
    "\n",
    "add_to_cart = (\n",
    "  prior_orders\n",
    "  .group_by(\"product_id\")\n",
    "  .agg(pl.col(\"add_to_cart_order\").mean().alias(\"p_avg_cart_position\"))\n",
    "  .sort(\"product_id\")\n",
    ")"
   ]
  },
  {
   "cell_type": "code",
   "execution_count": 50,
   "id": "c4c22bea",
   "metadata": {},
   "outputs": [],
   "source": [
    "# Merging all the created features into the product dataset\n",
    "\n",
    "prd = prd.join(reorder_p, on=\"product_id\", how=\"left\")\n",
    "\n",
    "prd = prd.join(add_to_cart, on=\"product_id\", how=\"left\")"
   ]
  },
  {
   "cell_type": "code",
   "execution_count": 51,
   "id": "ef9c12f3",
   "metadata": {},
   "outputs": [
    {
     "data": {
      "text/html": [
       "<div><style>\n",
       ".dataframe > thead > tr,\n",
       ".dataframe > tbody > tr {\n",
       "  text-align: right;\n",
       "  white-space: pre-wrap;\n",
       "}\n",
       "</style>\n",
       "<small>shape: (3, 4)</small><table border=\"1\" class=\"dataframe\"><thead><tr><th>product_id</th><th>p_num_of_times</th><th>p_reorder_ratio</th><th>p_avg_cart_position</th></tr><tr><td>i64</td><td>u32</td><td>f64</td><td>f64</td></tr></thead><tbody><tr><td>1</td><td>1852</td><td>0.613391</td><td>5.801836</td></tr><tr><td>2</td><td>90</td><td>0.133333</td><td>9.888889</td></tr><tr><td>3</td><td>277</td><td>0.732852</td><td>6.415162</td></tr></tbody></table></div>"
      ],
      "text/plain": [
       "shape: (3, 4)\n",
       "┌────────────┬────────────────┬─────────────────┬─────────────────────┐\n",
       "│ product_id ┆ p_num_of_times ┆ p_reorder_ratio ┆ p_avg_cart_position │\n",
       "│ ---        ┆ ---            ┆ ---             ┆ ---                 │\n",
       "│ i64        ┆ u32            ┆ f64             ┆ f64                 │\n",
       "╞════════════╪════════════════╪═════════════════╪═════════════════════╡\n",
       "│ 1          ┆ 1852           ┆ 0.613391        ┆ 5.801836            │\n",
       "│ 2          ┆ 90             ┆ 0.133333        ┆ 9.888889            │\n",
       "│ 3          ┆ 277            ┆ 0.732852        ┆ 6.415162            │\n",
       "└────────────┴────────────────┴─────────────────┴─────────────────────┘"
      ]
     },
     "execution_count": 51,
     "metadata": {},
     "output_type": "execute_result"
    }
   ],
   "source": [
    "prd.head(3)"
   ]
  },
  {
   "cell_type": "markdown",
   "id": "91e7c42d",
   "metadata": {},
   "source": [
    "### Creating features using user_id and product_id."
   ]
  },
  {
   "cell_type": "code",
   "execution_count": 52,
   "id": "9b018721",
   "metadata": {},
   "outputs": [],
   "source": [
    "# How many times a User has bought a product\n",
    "\n",
    "uxp = (\n",
    "  prior_orders\n",
    "  .group_by([\"user_id\", \"product_id\"])\n",
    "  .agg(pl.col(\"order_id\").len().alias(\"uxp_times_bought\"))\n",
    "  .sort([\"user_id\", \"product_id\"])\n",
    ")"
   ]
  },
  {
   "cell_type": "code",
   "execution_count": 53,
   "id": "3d7614eb",
   "metadata": {},
   "outputs": [],
   "source": [
    "# How many times a user bought a product after its first purchase\n",
    "\n",
    "times = (\n",
    "  prior_orders\n",
    "  .group_by([\"user_id\", \"product_id\"])\n",
    "  .agg(pl.col(\"order_id\").len().alias(\"times_bought\"))\n",
    "  .sort([\"user_id\", \"product_id\"])\n",
    ")"
   ]
  },
  {
   "cell_type": "code",
   "execution_count": 54,
   "id": "e3856798",
   "metadata": {},
   "outputs": [],
   "source": [
    "# Total Orders\n",
    "\n",
    "total_orders = (\n",
    "  prior_orders\n",
    "  .group_by(\"user_id\")\n",
    "  .agg(pl.col(\"order_number\").max().alias(\"total_orders\"))\n",
    "  .sort(\"user_id\")\n",
    ")"
   ]
  },
  {
   "cell_type": "code",
   "execution_count": 55,
   "id": "7503af1d",
   "metadata": {},
   "outputs": [],
   "source": [
    "# finding when the user has bought a product the first time\n",
    "\n",
    "first_order_num = (\n",
    "  prior_orders\n",
    "  .group_by([\"user_id\", \"product_id\"])\n",
    "  .agg(pl.col(\"order_number\").min().alias(\"first_order_num\"))\n",
    "  .sort([\"user_id\", \"product_id\"])\n",
    ")"
   ]
  },
  {
   "cell_type": "code",
   "execution_count": 56,
   "id": "7ed97415",
   "metadata": {},
   "outputs": [],
   "source": [
    "# merging both the dataframes\n",
    "\n",
    "span = total_orders.join(first_order_num, on=\"user_id\", how=\"right\")"
   ]
  },
  {
   "cell_type": "code",
   "execution_count": 57,
   "id": "85376374",
   "metadata": {},
   "outputs": [],
   "source": [
    "# Calculating the order range\n",
    "# the +1 includes in the difference the first order were the product has been purchased\n",
    "\n",
    "span = span.with_columns(\n",
    "  (pl.col(\"total_orders\") - pl.col(\"first_order_num\") + 1).alias(\"Order_Range_D\")\n",
    ")"
   ]
  },
  {
   "cell_type": "code",
   "execution_count": 58,
   "id": "1a3c6306",
   "metadata": {},
   "outputs": [],
   "source": [
    "# merging times df with the span\n",
    "\n",
    "uxp_ratio = times.join(span, on=[\"user_id\", \"product_id\"], how=\"left\")"
   ]
  },
  {
   "cell_type": "code",
   "execution_count": 59,
   "id": "18e83837",
   "metadata": {},
   "outputs": [],
   "source": [
    "# calculating the ratio\n",
    "\n",
    "uxp_ratio = uxp_ratio.with_columns(\n",
    "  (pl.col(\"times_bought\")/pl.col(\"Order_Range_D\")).alias(\"uxp_reorder_ratio\")\n",
    ")"
   ]
  },
  {
   "cell_type": "code",
   "execution_count": 60,
   "id": "505f463a",
   "metadata": {},
   "outputs": [],
   "source": [
    "# dropping all the unwanted columns\n",
    "\n",
    "uxp_ratio = uxp_ratio.drop(['times_bought', 'total_orders', 'first_order_num', 'Order_Range_D'])"
   ]
  },
  {
   "cell_type": "code",
   "execution_count": 61,
   "id": "a93d2a54",
   "metadata": {},
   "outputs": [],
   "source": [
    "# Merging all the created features into the uxp dataset\n",
    "\n",
    "uxp = uxp.join(uxp_ratio, on=[\"user_id\", \"product_id\"], how=\"left\")"
   ]
  },
  {
   "cell_type": "code",
   "execution_count": 62,
   "id": "31e89d24",
   "metadata": {},
   "outputs": [],
   "source": [
    "# How many times a customer bought a product on its last 5 orders\n",
    "\n",
    "max_order_number = prior_orders.group_by(\"user_id\").agg(pl.col(\"order_number\").max().alias(\"max_order_number\"))\n",
    "\n",
    "prior_orders = prior_orders.join(max_order_number, on=\"user_id\")\n",
    "\n",
    "prior_orders = prior_orders.with_columns(\n",
    "  (pl.col('max_order_number') - pl.col('order_number') + 1).alias('order_number_back')\n",
    ")\n",
    "\n",
    "prior_orders = prior_orders.drop('max_order_number')"
   ]
  },
  {
   "cell_type": "code",
   "execution_count": 63,
   "id": "007cc3bc",
   "metadata": {},
   "outputs": [],
   "source": [
    "# keeping only the first 5 orders from the order_number_back\n",
    "\n",
    "temp = prior_orders.filter(pl.col('order_number_back') <= 5)"
   ]
  },
  {
   "cell_type": "code",
   "execution_count": 64,
   "id": "4c7f4675",
   "metadata": {},
   "outputs": [],
   "source": [
    "# product bought by users in the last five orders\n",
    "\n",
    "last_five = (\n",
    "  temp\n",
    "  .group_by([\"user_id\", \"product_id\"])\n",
    "  .agg(pl.col(\"order_id\").len().alias(\"uxp_last_five\"))\n",
    "  .sort([\"user_id\", \"product_id\"])\n",
    ")"
   ]
  },
  {
   "cell_type": "code",
   "execution_count": 65,
   "id": "ccc6a78f",
   "metadata": {},
   "outputs": [],
   "source": [
    "# ratio of the products bought in the last_fice orders\n",
    "\n",
    "last_five = last_five.with_columns(\n",
    "  (pl.col('uxp_last_five')/5.0).alias('uxp_ratio_last_five')\n",
    ")"
   ]
  },
  {
   "cell_type": "code",
   "execution_count": 66,
   "id": "bf339e03",
   "metadata": {},
   "outputs": [],
   "source": [
    "# merging this feature with uxp df\n",
    "\n",
    "uxp = uxp.join(last_five, on=[\"user_id\", \"product_id\"], how=\"left\")"
   ]
  },
  {
   "cell_type": "code",
   "execution_count": 67,
   "id": "7c0e0d4a",
   "metadata": {},
   "outputs": [],
   "source": [
    "uxp = uxp.fill_null(strategy=\"zero\")"
   ]
  },
  {
   "cell_type": "code",
   "execution_count": 68,
   "id": "df9c452b",
   "metadata": {},
   "outputs": [
    {
     "data": {
      "text/html": [
       "<div><style>\n",
       ".dataframe > thead > tr,\n",
       ".dataframe > tbody > tr {\n",
       "  text-align: right;\n",
       "  white-space: pre-wrap;\n",
       "}\n",
       "</style>\n",
       "<small>shape: (3, 6)</small><table border=\"1\" class=\"dataframe\"><thead><tr><th>user_id</th><th>product_id</th><th>uxp_times_bought</th><th>uxp_reorder_ratio</th><th>uxp_last_five</th><th>uxp_ratio_last_five</th></tr><tr><td>i64</td><td>i64</td><td>u32</td><td>f64</td><td>u32</td><td>f64</td></tr></thead><tbody><tr><td>1</td><td>196</td><td>10</td><td>1.0</td><td>5</td><td>1.0</td></tr><tr><td>1</td><td>10258</td><td>9</td><td>1.0</td><td>5</td><td>1.0</td></tr><tr><td>1</td><td>10326</td><td>1</td><td>0.166667</td><td>0</td><td>0.0</td></tr></tbody></table></div>"
      ],
      "text/plain": [
       "shape: (3, 6)\n",
       "┌─────────┬────────────┬──────────────────┬───────────────────┬───────────────┬────────────────────┐\n",
       "│ user_id ┆ product_id ┆ uxp_times_bought ┆ uxp_reorder_ratio ┆ uxp_last_five ┆ uxp_ratio_last_fiv │\n",
       "│ ---     ┆ ---        ┆ ---              ┆ ---               ┆ ---           ┆ e                  │\n",
       "│ i64     ┆ i64        ┆ u32              ┆ f64               ┆ u32           ┆ ---                │\n",
       "│         ┆            ┆                  ┆                   ┆               ┆ f64                │\n",
       "╞═════════╪════════════╪══════════════════╪═══════════════════╪═══════════════╪════════════════════╡\n",
       "│ 1       ┆ 196        ┆ 10               ┆ 1.0               ┆ 5             ┆ 1.0                │\n",
       "│ 1       ┆ 10258      ┆ 9                ┆ 1.0               ┆ 5             ┆ 1.0                │\n",
       "│ 1       ┆ 10326      ┆ 1                ┆ 0.166667          ┆ 0             ┆ 0.0                │\n",
       "└─────────┴────────────┴──────────────────┴───────────────────┴───────────────┴────────────────────┘"
      ]
     },
     "execution_count": 68,
     "metadata": {},
     "output_type": "execute_result"
    }
   ],
   "source": [
    "uxp.head(3)"
   ]
  },
  {
   "cell_type": "markdown",
   "id": "3364d51a",
   "metadata": {},
   "source": [
    "### Merging users, prd and uxp dataframes"
   ]
  },
  {
   "cell_type": "code",
   "execution_count": 69,
   "id": "ee04b639",
   "metadata": {},
   "outputs": [],
   "source": [
    "# joining uxp features with user features\n",
    "# store the results on a new DataFrame\n",
    "\n",
    "data = uxp.join(users, on=\"user_id\", how=\"left\")"
   ]
  },
  {
   "cell_type": "code",
   "execution_count": 70,
   "id": "beb16ea5",
   "metadata": {},
   "outputs": [],
   "source": [
    "data = data.join(prd, on=\"product_id\", how=\"left\")"
   ]
  },
  {
   "cell_type": "code",
   "execution_count": 71,
   "id": "18821e78",
   "metadata": {},
   "outputs": [
    {
     "name": "stdout",
     "output_type": "stream",
     "text": [
      "Shape of the data: (13307953, 16)\n"
     ]
    }
   ],
   "source": [
    "print(f\"Shape of the data: {data.shape}\")"
   ]
  },
  {
   "cell_type": "markdown",
   "id": "f8a33c54",
   "metadata": {},
   "source": [
    "### Creating Training and Testing datasets"
   ]
  },
  {
   "cell_type": "code",
   "execution_count": 72,
   "id": "88f56117",
   "metadata": {},
   "outputs": [],
   "source": [
    "# keeping only the train and test set from the order df\n",
    "\n",
    "orders_future = orders_df.filter(\n",
    "  (pl.col(\"eval_set\") == 1) | (pl.col(\"eval_set\") == 2)\n",
    ").select([\"user_id\", \"eval_set\", \"order_id\"])"
   ]
  },
  {
   "cell_type": "code",
   "execution_count": 73,
   "id": "20b18667",
   "metadata": {},
   "outputs": [],
   "source": [
    "# merging the order_future with data\n",
    "data = data.join(orders_future, on=\"user_id\", how=\"left\")"
   ]
  },
  {
   "cell_type": "code",
   "execution_count": 74,
   "id": "b7a61d37",
   "metadata": {},
   "outputs": [],
   "source": [
    "# preparing the training dataset\n",
    "\n",
    "data_train = data.filter(\n",
    "  pl.col(\"eval_set\") == 1\n",
    ")"
   ]
  },
  {
   "cell_type": "code",
   "execution_count": 75,
   "id": "c694c1dc",
   "metadata": {},
   "outputs": [],
   "source": [
    "# merging the information contained in the order_products__train.csv into data_train\n",
    "\n",
    "data_train = data_train.join(order_train_df.select([\"product_id\", \"order_id\", \"reordered\"]), on=[\"product_id\", \"order_id\"], how=\"left\")"
   ]
  },
  {
   "cell_type": "code",
   "execution_count": 76,
   "id": "f9c1a810",
   "metadata": {},
   "outputs": [],
   "source": [
    "data_train = data_train.with_columns(\n",
    "    pl.col(\"reordered\").fill_null(strategy=\"zero\").alias(\"reordered\")\n",
    ")"
   ]
  },
  {
   "cell_type": "code",
   "execution_count": 77,
   "id": "636ae811",
   "metadata": {},
   "outputs": [],
   "source": [
    "data_train = data_train.drop([\"eval_set\", \"order_id\"])"
   ]
  },
  {
   "cell_type": "code",
   "execution_count": 78,
   "id": "90e5a226",
   "metadata": {},
   "outputs": [
    {
     "data": {
      "text/html": [
       "<div><style>\n",
       ".dataframe > thead > tr,\n",
       ".dataframe > tbody > tr {\n",
       "  text-align: right;\n",
       "  white-space: pre-wrap;\n",
       "}\n",
       "</style>\n",
       "<small>shape: (5, 17)</small><table border=\"1\" class=\"dataframe\"><thead><tr><th>user_id</th><th>product_id</th><th>uxp_times_bought</th><th>uxp_reorder_ratio</th><th>uxp_last_five</th><th>uxp_ratio_last_five</th><th>u_num_of_orders</th><th>u_avg_prd</th><th>dow_u_most_orders</th><th>hod_u_most_orders</th><th>u_reorder_ratio</th><th>average_days_between_orders</th><th>u_total_items_bought</th><th>p_num_of_times</th><th>p_reorder_ratio</th><th>p_avg_cart_position</th><th>reordered</th></tr><tr><td>i64</td><td>i64</td><td>u32</td><td>f64</td><td>u32</td><td>f64</td><td>i64</td><td>f64</td><td>i64</td><td>i64</td><td>f64</td><td>f64</td><td>i64</td><td>u32</td><td>f64</td><td>f64</td><td>i64</td></tr></thead><tbody><tr><td>1</td><td>196</td><td>10</td><td>1.0</td><td>5</td><td>1.0</td><td>10</td><td>5.9</td><td>4</td><td>7</td><td>0.694915</td><td>18.542373</td><td>59</td><td>35791</td><td>0.77648</td><td>3.721774</td><td>1</td></tr><tr><td>1</td><td>10258</td><td>9</td><td>1.0</td><td>5</td><td>1.0</td><td>10</td><td>5.9</td><td>4</td><td>7</td><td>0.694915</td><td>18.542373</td><td>59</td><td>1946</td><td>0.713772</td><td>4.277492</td><td>1</td></tr><tr><td>1</td><td>10326</td><td>1</td><td>0.166667</td><td>0</td><td>0.0</td><td>10</td><td>5.9</td><td>4</td><td>7</td><td>0.694915</td><td>18.542373</td><td>59</td><td>5526</td><td>0.652009</td><td>4.191097</td><td>0</td></tr><tr><td>1</td><td>12427</td><td>10</td><td>1.0</td><td>5</td><td>1.0</td><td>10</td><td>5.9</td><td>4</td><td>7</td><td>0.694915</td><td>18.542373</td><td>59</td><td>6476</td><td>0.740735</td><td>4.760037</td><td>0</td></tr><tr><td>1</td><td>13032</td><td>3</td><td>0.333333</td><td>2</td><td>0.4</td><td>10</td><td>5.9</td><td>4</td><td>7</td><td>0.694915</td><td>18.542373</td><td>59</td><td>3751</td><td>0.657158</td><td>5.622767</td><td>1</td></tr></tbody></table></div>"
      ],
      "text/plain": [
       "shape: (5, 17)\n",
       "┌─────────┬────────────┬───────────┬───────────┬───┬───────────┬───────────┬───────────┬───────────┐\n",
       "│ user_id ┆ product_id ┆ uxp_times ┆ uxp_reord ┆ … ┆ p_num_of_ ┆ p_reorder ┆ p_avg_car ┆ reordered │\n",
       "│ ---     ┆ ---        ┆ _bought   ┆ er_ratio  ┆   ┆ times     ┆ _ratio    ┆ t_positio ┆ ---       │\n",
       "│ i64     ┆ i64        ┆ ---       ┆ ---       ┆   ┆ ---       ┆ ---       ┆ n         ┆ i64       │\n",
       "│         ┆            ┆ u32       ┆ f64       ┆   ┆ u32       ┆ f64       ┆ ---       ┆           │\n",
       "│         ┆            ┆           ┆           ┆   ┆           ┆           ┆ f64       ┆           │\n",
       "╞═════════╪════════════╪═══════════╪═══════════╪═══╪═══════════╪═══════════╪═══════════╪═══════════╡\n",
       "│ 1       ┆ 196        ┆ 10        ┆ 1.0       ┆ … ┆ 35791     ┆ 0.77648   ┆ 3.721774  ┆ 1         │\n",
       "│ 1       ┆ 10258      ┆ 9         ┆ 1.0       ┆ … ┆ 1946      ┆ 0.713772  ┆ 4.277492  ┆ 1         │\n",
       "│ 1       ┆ 10326      ┆ 1         ┆ 0.166667  ┆ … ┆ 5526      ┆ 0.652009  ┆ 4.191097  ┆ 0         │\n",
       "│ 1       ┆ 12427      ┆ 10        ┆ 1.0       ┆ … ┆ 6476      ┆ 0.740735  ┆ 4.760037  ┆ 0         │\n",
       "│ 1       ┆ 13032      ┆ 3         ┆ 0.333333  ┆ … ┆ 3751      ┆ 0.657158  ┆ 5.622767  ┆ 1         │\n",
       "└─────────┴────────────┴───────────┴───────────┴───┴───────────┴───────────┴───────────┴───────────┘"
      ]
     },
     "execution_count": 78,
     "metadata": {},
     "output_type": "execute_result"
    }
   ],
   "source": [
    "data_train.head()"
   ]
  },
  {
   "cell_type": "code",
   "execution_count": 79,
   "id": "98f69f5d",
   "metadata": {},
   "outputs": [],
   "source": [
    "data_test = data.filter(\n",
    "  pl.col(\"eval_set\") == 2\n",
    ")"
   ]
  },
  {
   "cell_type": "code",
   "execution_count": 80,
   "id": "3699e398",
   "metadata": {},
   "outputs": [],
   "source": [
    "data_test = data_test.drop([\"eval_set\", \"order_id\"])"
   ]
  },
  {
   "cell_type": "code",
   "execution_count": 81,
   "id": "2ed2d34d",
   "metadata": {},
   "outputs": [
    {
     "name": "stdout",
     "output_type": "stream",
     "text": [
      " The shape of the train data set is (8474661, 17) and the test data set is (4833292, 16)\n"
     ]
    }
   ],
   "source": [
    "print(f\" The shape of the train data set is {data_train.shape} and the test data set is {data_test.shape}\")"
   ]
  },
  {
   "cell_type": "code",
   "execution_count": 82,
   "id": "c9a4911c",
   "metadata": {},
   "outputs": [],
   "source": [
    "# adding aisle and department data\n",
    "\n",
    "data_train = data_train.join(products_df, on=\"product_id\", how=\"left\")\n",
    "data_test = data_test.join(products_df, on=\"product_id\", how=\"left\")"
   ]
  },
  {
   "cell_type": "code",
   "execution_count": 83,
   "id": "9415da2d",
   "metadata": {},
   "outputs": [],
   "source": [
    "data_train = data_train.sort(by=[\"user_id\", \"product_id\"])\n",
    "data_test = data_test.sort(by=[\"user_id\", \"product_id\"])"
   ]
  },
  {
   "cell_type": "code",
   "execution_count": 84,
   "id": "30aa8ba7",
   "metadata": {},
   "outputs": [],
   "source": [
    "# mean encoding categorical variables\n",
    "\n",
    "columns_mean = [\"aisle_id\", \"department_id\"]\n",
    "\n",
    "for col in columns_mean:\n",
    "  mean = (\n",
    "    data_train\n",
    "    .group_by(col)\n",
    "    .agg(pl.col(\"reordered\").mean())\n",
    "    .rename({'reordered': f'{col}_mean'})\n",
    "  )\n",
    "\n",
    "  data_train = data_train.join(mean, on=col, how='left')\n",
    "  data_test = data_test.join(mean, on=col, how='left')\n",
    "  \n",
    "  # Replace original column with mean values\n",
    "  data_train = data_train.with_columns(pl.col(f'{col}_mean').alias(col))\n",
    "  data_test = data_test.with_columns(pl.col(f'{col}_mean').alias(col))\n",
    "  \n",
    "  # Drop temporary mean column\n",
    "  data_train = data_train.drop(f'{col}_mean')\n",
    "  data_test = data_test.drop(f'{col}_mean')"
   ]
  },
  {
   "cell_type": "markdown",
   "id": "fb1ddb14",
   "metadata": {},
   "source": [
    "### Model Building"
   ]
  },
  {
   "cell_type": "code",
   "execution_count": 88,
   "id": "30e8d9ad",
   "metadata": {},
   "outputs": [
    {
     "data": {
      "text/plain": [
       "'1.6.1'"
      ]
     },
     "execution_count": 88,
     "metadata": {},
     "output_type": "execute_result"
    }
   ],
   "source": [
    "import sklearn\n",
    "sklearn.__version__\n"
   ]
  },
  {
   "cell_type": "code",
   "execution_count": 1,
   "id": "2c6ce67a",
   "metadata": {},
   "outputs": [
    {
     "name": "stderr",
     "output_type": "stream",
     "text": [
      "\n",
      "A module that was compiled using NumPy 1.x cannot be run in\n",
      "NumPy 2.2.0 as it may crash. To support both 1.x and 2.x\n",
      "versions of NumPy, modules must be compiled with NumPy 2.0.\n",
      "Some module may need to rebuild instead e.g. with 'pybind11>=2.12'.\n",
      "\n",
      "If you are a user of the module, the easiest solution will be to\n",
      "downgrade to 'numpy<2' or try to upgrade the affected module.\n",
      "We expect that some modules will need time to support NumPy 2.\n",
      "\n",
      "Traceback (most recent call last):  File \"<frozen runpy>\", line 198, in _run_module_as_main\n",
      "  File \"<frozen runpy>\", line 88, in _run_code\n",
      "  File \"/opt/anaconda3/lib/python3.11/site-packages/ipykernel_launcher.py\", line 18, in <module>\n",
      "    app.launch_new_instance()\n",
      "  File \"/opt/anaconda3/lib/python3.11/site-packages/traitlets/config/application.py\", line 1075, in launch_instance\n",
      "    app.start()\n",
      "  File \"/opt/anaconda3/lib/python3.11/site-packages/ipykernel/kernelapp.py\", line 739, in start\n",
      "    self.io_loop.start()\n",
      "  File \"/opt/anaconda3/lib/python3.11/site-packages/tornado/platform/asyncio.py\", line 205, in start\n",
      "    self.asyncio_loop.run_forever()\n",
      "  File \"/opt/anaconda3/lib/python3.11/asyncio/base_events.py\", line 607, in run_forever\n",
      "    self._run_once()\n",
      "  File \"/opt/anaconda3/lib/python3.11/asyncio/base_events.py\", line 1922, in _run_once\n",
      "    handle._run()\n",
      "  File \"/opt/anaconda3/lib/python3.11/asyncio/events.py\", line 80, in _run\n",
      "    self._context.run(self._callback, *self._args)\n",
      "  File \"/opt/anaconda3/lib/python3.11/site-packages/ipykernel/kernelbase.py\", line 545, in dispatch_queue\n",
      "    await self.process_one()\n",
      "  File \"/opt/anaconda3/lib/python3.11/site-packages/ipykernel/kernelbase.py\", line 534, in process_one\n",
      "    await dispatch(*args)\n",
      "  File \"/opt/anaconda3/lib/python3.11/site-packages/ipykernel/kernelbase.py\", line 437, in dispatch_shell\n",
      "    await result\n",
      "  File \"/opt/anaconda3/lib/python3.11/site-packages/ipykernel/ipkernel.py\", line 362, in execute_request\n",
      "    await super().execute_request(stream, ident, parent)\n",
      "  File \"/opt/anaconda3/lib/python3.11/site-packages/ipykernel/kernelbase.py\", line 778, in execute_request\n",
      "    reply_content = await reply_content\n",
      "  File \"/opt/anaconda3/lib/python3.11/site-packages/ipykernel/ipkernel.py\", line 449, in do_execute\n",
      "    res = shell.run_cell(\n",
      "  File \"/opt/anaconda3/lib/python3.11/site-packages/ipykernel/zmqshell.py\", line 549, in run_cell\n",
      "    return super().run_cell(*args, **kwargs)\n",
      "  File \"/opt/anaconda3/lib/python3.11/site-packages/IPython/core/interactiveshell.py\", line 3077, in run_cell\n",
      "    result = self._run_cell(\n",
      "  File \"/opt/anaconda3/lib/python3.11/site-packages/IPython/core/interactiveshell.py\", line 3132, in _run_cell\n",
      "    result = runner(coro)\n",
      "  File \"/opt/anaconda3/lib/python3.11/site-packages/IPython/core/async_helpers.py\", line 128, in _pseudo_sync_runner\n",
      "    coro.send(None)\n",
      "  File \"/opt/anaconda3/lib/python3.11/site-packages/IPython/core/interactiveshell.py\", line 3336, in run_cell_async\n",
      "    has_raised = await self.run_ast_nodes(code_ast.body, cell_name,\n",
      "  File \"/opt/anaconda3/lib/python3.11/site-packages/IPython/core/interactiveshell.py\", line 3519, in run_ast_nodes\n",
      "    if await self.run_code(code, result, async_=asy):\n",
      "  File \"/opt/anaconda3/lib/python3.11/site-packages/IPython/core/interactiveshell.py\", line 3579, in run_code\n",
      "    exec(code_obj, self.user_global_ns, self.user_ns)\n",
      "  File \"/var/folders/dt/nf7j33w51gj7cv6bx6633tm40000gn/T/ipykernel_73240/2933675156.py\", line 3, in <module>\n",
      "    from sklearn.model_selection import train_test_split, GridSearchCV, KFold\n",
      "  File \"/opt/anaconda3/lib/python3.11/site-packages/sklearn/__init__.py\", line 73, in <module>\n",
      "    from .base import clone  # noqa: E402\n",
      "  File \"/opt/anaconda3/lib/python3.11/site-packages/sklearn/base.py\", line 19, in <module>\n",
      "    from .utils._estimator_html_repr import _HTMLDocumentationLinkMixin, estimator_html_repr\n",
      "  File \"/opt/anaconda3/lib/python3.11/site-packages/sklearn/utils/__init__.py\", line 15, in <module>\n",
      "    from ._chunking import gen_batches, gen_even_slices\n",
      "  File \"/opt/anaconda3/lib/python3.11/site-packages/sklearn/utils/_chunking.py\", line 11, in <module>\n",
      "    from ._param_validation import Interval, validate_params\n",
      "  File \"/opt/anaconda3/lib/python3.11/site-packages/sklearn/utils/_param_validation.py\", line 17, in <module>\n",
      "    from .validation import _is_arraylike_not_scalar\n",
      "  File \"/opt/anaconda3/lib/python3.11/site-packages/sklearn/utils/validation.py\", line 21, in <module>\n",
      "    from ..utils._array_api import _asarray_with_order, _is_numpy_namespace, get_namespace\n",
      "  File \"/opt/anaconda3/lib/python3.11/site-packages/sklearn/utils/_array_api.py\", line 17, in <module>\n",
      "    from .fixes import parse_version\n",
      "  File \"/opt/anaconda3/lib/python3.11/site-packages/sklearn/utils/fixes.py\", line 20, in <module>\n",
      "    import pandas as pd\n",
      "  File \"/opt/anaconda3/lib/python3.11/site-packages/pandas/__init__.py\", line 49, in <module>\n",
      "    from pandas.core.api import (\n",
      "  File \"/opt/anaconda3/lib/python3.11/site-packages/pandas/core/api.py\", line 28, in <module>\n",
      "    from pandas.core.arrays import Categorical\n",
      "  File \"/opt/anaconda3/lib/python3.11/site-packages/pandas/core/arrays/__init__.py\", line 1, in <module>\n",
      "    from pandas.core.arrays.arrow import ArrowExtensionArray\n",
      "  File \"/opt/anaconda3/lib/python3.11/site-packages/pandas/core/arrays/arrow/__init__.py\", line 5, in <module>\n",
      "    from pandas.core.arrays.arrow.array import ArrowExtensionArray\n",
      "  File \"/opt/anaconda3/lib/python3.11/site-packages/pandas/core/arrays/arrow/array.py\", line 50, in <module>\n",
      "    from pandas.core import (\n",
      "  File \"/opt/anaconda3/lib/python3.11/site-packages/pandas/core/ops/__init__.py\", line 8, in <module>\n",
      "    from pandas.core.ops.array_ops import (\n",
      "  File \"/opt/anaconda3/lib/python3.11/site-packages/pandas/core/ops/array_ops.py\", line 56, in <module>\n",
      "    from pandas.core.computation import expressions\n",
      "  File \"/opt/anaconda3/lib/python3.11/site-packages/pandas/core/computation/expressions.py\", line 21, in <module>\n",
      "    from pandas.core.computation.check import NUMEXPR_INSTALLED\n",
      "  File \"/opt/anaconda3/lib/python3.11/site-packages/pandas/core/computation/check.py\", line 5, in <module>\n",
      "    ne = import_optional_dependency(\"numexpr\", errors=\"warn\")\n",
      "  File \"/opt/anaconda3/lib/python3.11/site-packages/pandas/compat/_optional.py\", line 135, in import_optional_dependency\n",
      "    module = importlib.import_module(name)\n",
      "  File \"/opt/anaconda3/lib/python3.11/importlib/__init__.py\", line 126, in import_module\n",
      "    return _bootstrap._gcd_import(name[level:], package, level)\n",
      "  File \"/opt/anaconda3/lib/python3.11/site-packages/numexpr/__init__.py\", line 24, in <module>\n",
      "    from numexpr.interpreter import MAX_THREADS, use_vml, __BLOCK_SIZE1__\n"
     ]
    },
    {
     "ename": "AttributeError",
     "evalue": "_ARRAY_API not found",
     "output_type": "error",
     "traceback": [
      "\u001b[0;31m---------------------------------------------------------------------------\u001b[0m",
      "\u001b[0;31mAttributeError\u001b[0m                            Traceback (most recent call last)",
      "\u001b[0;31mAttributeError\u001b[0m: _ARRAY_API not found"
     ]
    },
    {
     "ename": "ImportError",
     "evalue": "cannot import name 'plot_confusion_matrix' from 'sklearn.metrics' (/opt/anaconda3/lib/python3.11/site-packages/sklearn/metrics/__init__.py)",
     "output_type": "error",
     "traceback": [
      "\u001b[0;31m---------------------------------------------------------------------------\u001b[0m",
      "\u001b[0;31mImportError\u001b[0m                               Traceback (most recent call last)",
      "Cell \u001b[0;32mIn[1], line 5\u001b[0m\n\u001b[1;32m      3\u001b[0m \u001b[38;5;28;01mfrom\u001b[39;00m\u001b[38;5;250m \u001b[39m\u001b[38;5;21;01msklearn\u001b[39;00m\u001b[38;5;21;01m.\u001b[39;00m\u001b[38;5;21;01mmodel_selection\u001b[39;00m\u001b[38;5;250m \u001b[39m\u001b[38;5;28;01mimport\u001b[39;00m train_test_split, GridSearchCV, KFold\n\u001b[1;32m      4\u001b[0m \u001b[38;5;28;01mfrom\u001b[39;00m\u001b[38;5;250m \u001b[39m\u001b[38;5;21;01msklearn\u001b[39;00m\u001b[38;5;21;01m.\u001b[39;00m\u001b[38;5;21;01mmetrics\u001b[39;00m\u001b[38;5;250m \u001b[39m\u001b[38;5;28;01mimport\u001b[39;00m f1_score, classification_report\n\u001b[0;32m----> 5\u001b[0m \u001b[38;5;28;01mfrom\u001b[39;00m\u001b[38;5;250m \u001b[39m\u001b[38;5;21;01msklearn\u001b[39;00m\u001b[38;5;21;01m.\u001b[39;00m\u001b[38;5;21;01mmetrics\u001b[39;00m\u001b[38;5;250m \u001b[39m\u001b[38;5;28;01mimport\u001b[39;00m plot_confusion_matrix\n\u001b[1;32m      6\u001b[0m \u001b[38;5;28;01mimport\u001b[39;00m\u001b[38;5;250m \u001b[39m\u001b[38;5;21;01mshap\u001b[39;00m\n\u001b[1;32m      8\u001b[0m \u001b[38;5;28;01mimport\u001b[39;00m\u001b[38;5;250m \u001b[39m\u001b[38;5;21;01mxgboost\u001b[39;00m\u001b[38;5;250m \u001b[39m\u001b[38;5;28;01mas\u001b[39;00m\u001b[38;5;250m \u001b[39m\u001b[38;5;21;01mxgb\u001b[39;00m\n",
      "\u001b[0;31mImportError\u001b[0m: cannot import name 'plot_confusion_matrix' from 'sklearn.metrics' (/opt/anaconda3/lib/python3.11/site-packages/sklearn/metrics/__init__.py)"
     ]
    }
   ],
   "source": [
    "# import ml packages\n",
    "\n",
    "from sklearn.model_selection import train_test_split, GridSearchCV, KFold\n",
    "from sklearn.metrics import f1_score, classification_report\n",
    "from sklearn.metrics import plot_confusion_matrix\n",
    "import shap\n",
    "\n",
    "import xgboost as xgb\n",
    "import lightgbm as lgb"
   ]
  },
  {
   "cell_type": "code",
   "execution_count": null,
   "id": "680b840f",
   "metadata": {},
   "outputs": [],
   "source": []
  }
 ],
 "metadata": {
  "kernelspec": {
   "display_name": "base",
   "language": "python",
   "name": "python3"
  },
  "language_info": {
   "codemirror_mode": {
    "name": "ipython",
    "version": 3
   },
   "file_extension": ".py",
   "mimetype": "text/x-python",
   "name": "python",
   "nbconvert_exporter": "python",
   "pygments_lexer": "ipython3",
   "version": "3.11.7"
  }
 },
 "nbformat": 4,
 "nbformat_minor": 5
}
